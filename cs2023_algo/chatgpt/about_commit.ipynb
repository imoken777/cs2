{
 "cells": [
  {
   "cell_type": "code",
   "execution_count": 30,
   "metadata": {},
   "outputs": [],
   "source": [
    "# 必要なモジュールの import\n",
    "from langchain.agents import Tool, initialize_agent, AgentType\n",
    "from langchain.chat_models import ChatOpenAI\n",
    "from langchain.schema import AIMessage, HumanMessage, SystemMessage\n",
    "import requests\n",
    "from dotenv import load_dotenv\n",
    "import os"
   ]
  },
  {
   "cell_type": "code",
   "execution_count": 31,
   "metadata": {},
   "outputs": [],
   "source": [
    "load_dotenv()\n",
    "\n",
    "OPENAI_API_KEY = os.getenv(\"OPENAI_API_KEY\")\n",
    "\n",
    "\n",
    "OPENAI_API_BASE = os.getenv(\"OPENAI_API_BASE\")\n",
    "\n",
    "\n",
    "chat = ChatOpenAI(\n",
    "    openai_api_key=OPENAI_API_KEY,\n",
    "    openai_api_base=OPENAI_API_BASE,\n",
    "    model_name=\"gpt-3.5-turbo\",\n",
    "    temperature=0,\n",
    ")"
   ]
  },
  {
   "cell_type": "code",
   "execution_count": 32,
   "metadata": {},
   "outputs": [],
   "source": [
    "def get_commit(commit_sha):\n",
    "    access_token = os.getenv(\"GITHUB_ACCESS_TOKEN\")\n",
    "    repo_owner = \"imoken777\"\n",
    "    repo_name = \"Gradius-2023\"\n",
    "\n",
    "    url = f\"https://api.github.com/repos/{repo_owner}/{repo_name}/commits/{commit_sha}\"\n",
    "    headers = {\"Authorization\": f\"token {access_token}\"}\n",
    "    response = requests.get(url, headers=headers)\n",
    "\n",
    "    if response.status_code == 200:\n",
    "        response_data = response.json()\n",
    "        files = response_data.get(\"files\", [])\n",
    "\n",
    "        commit_info = \"\"\n",
    "\n",
    "        for file in files:\n",
    "            patch = file.get(\"patch\")\n",
    "            if patch:\n",
    "                commit_info += f\"File: {file['filename']}\\nPatch:\\n{patch}\\n\\n\"\n",
    "            else:\n",
    "                commit_info += f\"File: {file['filename']} - No patch available\\n\\n\"\n",
    "\n",
    "        return commit_info\n",
    "    else:\n",
    "        return f\"Error: {response.status_code}, {response.text}\"\n"
   ]
  },
  {
   "cell_type": "code",
   "execution_count": 33,
   "metadata": {},
   "outputs": [],
   "source": [
    "tools = [\n",
    "    Tool.from_function(\n",
    "        func=get_commit,\n",
    "        name=\"get_commit\",\n",
    "        description=\"指定されたコミットの詳細情報を取得するための関数です。\",\n",
    "    )\n",
    "]\n",
    "\n",
    "agent = initialize_agent(\n",
    "    tools,\n",
    "    chat,\n",
    "    agent_type=AgentType.ZERO_SHOT_REACT_DESCRIPTION,\n",
    ")\n"
   ]
  },
  {
   "cell_type": "code",
   "execution_count": 34,
   "metadata": {},
   "outputs": [
    {
     "data": {
      "text/plain": [
       "'このコミットは、controller.ts、index.ts、bulletUsecase.tsのファイルに変更が加えられています。具体的には、controller.tsのgetメソッドとpostメソッドが更新され、index.tsのpostメソッドのresBodyの型が変更され、bulletUsecase.tsのcreateメソッドの引数と処理が変更されました。'"
      ]
     },
     "execution_count": 34,
     "metadata": {},
     "output_type": "execute_result"
    }
   ],
   "source": [
    "agent.run(\n",
    "    \"以下のコミットの内容を日本語で詳しく説明してください。141b2193d2ac846077460f04fa68190772b201eb\"\n",
    ")"
   ]
  }
 ],
 "metadata": {
  "kernelspec": {
   "display_name": "venv",
   "language": "python",
   "name": "python3"
  },
  "language_info": {
   "codemirror_mode": {
    "name": "ipython",
    "version": 3
   },
   "file_extension": ".py",
   "mimetype": "text/x-python",
   "name": "python",
   "nbconvert_exporter": "python",
   "pygments_lexer": "ipython3",
   "version": "3.11.7"
  }
 },
 "nbformat": 4,
 "nbformat_minor": 2
}
