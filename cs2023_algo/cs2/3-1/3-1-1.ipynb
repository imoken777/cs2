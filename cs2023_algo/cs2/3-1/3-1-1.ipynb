{
 "cells": [
  {
   "cell_type": "markdown",
   "metadata": {},
   "source": [
    "## 課題3-1-1\n"
   ]
  },
  {
   "cell_type": "code",
   "execution_count": 5,
   "metadata": {},
   "outputs": [],
   "source": [
    "class Student:\n",
    "    def __init__(self, student_id, family_name, first_name):\n",
    "        self.student_id = student_id\n",
    "        self.family_name = family_name\n",
    "        self.first_name = first_name"
   ]
  },
  {
   "cell_type": "code",
   "execution_count": 6,
   "metadata": {},
   "outputs": [],
   "source": [
    "def func(a):\n",
    "    return a.student_id"
   ]
  },
  {
   "cell_type": "code",
   "execution_count": 7,
   "metadata": {},
   "outputs": [
    {
     "name": "stdout",
     "output_type": "stream",
     "text": [
      "Yamada Tanaka Inoue\n"
     ]
    }
   ],
   "source": [
    "lst = [Student(112, 'Tanaka', 'Taro'), Student(110, 'Yamada', 'Hanako'), Student(231, 'Inoue', 'Ken')]\n",
    "lst2 = sorted(lst, key=func)\n",
    "\n",
    "print(lst2[0].family_name, lst2[1].family_name, lst2[2].family_name)"
   ]
  }
 ],
 "metadata": {
  "kernelspec": {
   "display_name": "venv",
   "language": "python",
   "name": "python3"
  },
  "language_info": {
   "codemirror_mode": {
    "name": "ipython",
    "version": 3
   },
   "file_extension": ".py",
   "mimetype": "text/x-python",
   "name": "python",
   "nbconvert_exporter": "python",
   "pygments_lexer": "ipython3",
   "version": "3.11.6"
  }
 },
 "nbformat": 4,
 "nbformat_minor": 2
}
