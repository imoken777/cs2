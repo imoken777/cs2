{
 "cells": [
  {
   "cell_type": "code",
   "execution_count": 2,
   "metadata": {},
   "outputs": [
    {
     "name": "stdout",
     "output_type": "stream",
     "text": [
      "deque([121, 119, 26, 32, 56, 62, 86, 92, 116, 122])\n"
     ]
    }
   ],
   "source": [
    "from collections import deque\n",
    "\n",
    "\n",
    "def deque1():\n",
    "    result = deque()\n",
    "    count = 1\n",
    "    while True:\n",
    "        if count % 5 == 0:\n",
    "            result.pop()\n",
    "        elif count % 3 == 0:\n",
    "            result.popleft()\n",
    "        elif count % 2 == 0:\n",
    "            result.append(count)\n",
    "        else:\n",
    "            result.appendleft(count)\n",
    "        if len(result) == 10:\n",
    "            return result\n",
    "        count += 1\n",
    "\n",
    "\n",
    "print(deque1())"
   ]
  }
 ],
 "metadata": {
  "kernelspec": {
   "display_name": "venv",
   "language": "python",
   "name": "python3"
  },
  "language_info": {
   "codemirror_mode": {
    "name": "ipython",
    "version": 3
   },
   "file_extension": ".py",
   "mimetype": "text/x-python",
   "name": "python",
   "nbconvert_exporter": "python",
   "pygments_lexer": "ipython3",
   "version": "3.11.6"
  }
 },
 "nbformat": 4,
 "nbformat_minor": 2
}
