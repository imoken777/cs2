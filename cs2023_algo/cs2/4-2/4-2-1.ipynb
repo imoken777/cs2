{
 "cells": [
  {
   "cell_type": "markdown",
   "metadata": {},
   "source": [
    "## 課題 4-2-1\n",
    "\n",
    "### (1)\n",
    "\n",
    "スタックの先頭から答えろなので配列を逆さの順で答える\n"
   ]
  },
  {
   "cell_type": "code",
   "execution_count": 26,
   "metadata": {},
   "outputs": [
    {
     "name": "stdout",
     "output_type": "stream",
     "text": [
      "[14, 13, 12, 11, 8, 7, 6, 3, 2, 1]\n"
     ]
    }
   ],
   "source": [
    "def stuck():\n",
    "    result = []\n",
    "    count = 1\n",
    "    while True:\n",
    "        if count % 5 == 0:\n",
    "            result.pop()\n",
    "        else:\n",
    "            result.append(count)\n",
    "        if len(result) == 10:\n",
    "            result.reverse()\n",
    "            return result\n",
    "        count += 1\n",
    "\n",
    "\n",
    "print(stuck())"
   ]
  },
  {
   "cell_type": "markdown",
   "metadata": {},
   "source": [
    "### (2)\n"
   ]
  },
  {
   "cell_type": "code",
   "execution_count": null,
   "metadata": {},
   "outputs": [
    {
     "name": "stdout",
     "output_type": "stream",
     "text": [
      "[13, 14, 16, 17, 19, 20, 22, 23, 25, 26]\n"
     ]
    }
   ],
   "source": [
    "def que():\n",
    "    result = []\n",
    "    count = 1\n",
    "    while True:\n",
    "        if count % 3 == 0:\n",
    "            result.remove(result[0])\n",
    "        else:\n",
    "            result.append(count)\n",
    "        if len(result) == 10:\n",
    "            return result\n",
    "        count += 1\n",
    "\n",
    "\n",
    "print(que())"
   ]
  }
 ],
 "metadata": {
  "kernelspec": {
   "display_name": "venv",
   "language": "python",
   "name": "python3"
  },
  "language_info": {
   "codemirror_mode": {
    "name": "ipython",
    "version": 3
   },
   "file_extension": ".py",
   "mimetype": "text/x-python",
   "name": "python",
   "nbconvert_exporter": "python",
   "pygments_lexer": "ipython3",
   "version": "3.11.6"
  }
 },
 "nbformat": 4,
 "nbformat_minor": 2
}
