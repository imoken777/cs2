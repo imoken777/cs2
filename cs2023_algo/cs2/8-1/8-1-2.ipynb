{
 "cells": [
  {
   "cell_type": "code",
   "execution_count": 1,
   "metadata": {},
   "outputs": [],
   "source": [
    "class Node:\n",
    "    def __init__(self, value):\n",
    "        self.value = value\n",
    "        self.left = None\n",
    "        self.right = None\n",
    "\n",
    "    def __str__(self):\n",
    "        return str(self.value)"
   ]
  },
  {
   "cell_type": "code",
   "execution_count": 2,
   "metadata": {},
   "outputs": [],
   "source": [
    "def add(node, value):\n",
    "    if node == None:\n",
    "        return Node(value)\n",
    "\n",
    "    if node.value == value:\n",
    "        raise Exception(\"Already added.\")\n",
    "\n",
    "    if value < node.value:\n",
    "        node.left = add(node.left, value)\n",
    "        return node\n",
    "\n",
    "    if value > node.value:\n",
    "        node.right = add(node.right, value)\n",
    "        return node"
   ]
  },
  {
   "cell_type": "code",
   "execution_count": 3,
   "metadata": {},
   "outputs": [],
   "source": [
    "def find_min(node):\n",
    "    if node.left == None:\n",
    "        return node\n",
    "    return find_min(node.left)"
   ]
  },
  {
   "cell_type": "code",
   "execution_count": 4,
   "metadata": {},
   "outputs": [],
   "source": [
    "def find_max(node):\n",
    "    if node.right == None:\n",
    "        return node\n",
    "    return find_max(node.right)"
   ]
  }
 ],
 "metadata": {
  "kernelspec": {
   "display_name": "venv",
   "language": "python",
   "name": "python3"
  },
  "language_info": {
   "codemirror_mode": {
    "name": "ipython",
    "version": 3
   },
   "file_extension": ".py",
   "mimetype": "text/x-python",
   "name": "python",
   "nbconvert_exporter": "python",
   "pygments_lexer": "ipython3",
   "version": "3.11.6"
  }
 },
 "nbformat": 4,
 "nbformat_minor": 2
}
