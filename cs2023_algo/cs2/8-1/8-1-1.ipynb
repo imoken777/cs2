{
 "cells": [
  {
   "cell_type": "code",
   "execution_count": 1,
   "metadata": {},
   "outputs": [],
   "source": [
    "class Node:\n",
    "    def __init__(self, value):\n",
    "        self.value = value\n",
    "        self.left = None\n",
    "        self.right = None\n",
    "\n",
    "    def __str__(self):\n",
    "        return str(self.value)"
   ]
  },
  {
   "cell_type": "code",
   "execution_count": 2,
   "metadata": {},
   "outputs": [],
   "source": [
    "def print_preorder(node):\n",
    "    print(node.value, end=\", \")\n",
    "\n",
    "    if node.left != None:\n",
    "        print_preorder(node.left)\n",
    "\n",
    "    if node.right != None:\n",
    "        print_preorder(node.right)"
   ]
  },
  {
   "cell_type": "code",
   "execution_count": 3,
   "metadata": {},
   "outputs": [],
   "source": [
    "def add(node, value):\n",
    "    if node == None:\n",
    "        return Node(value)\n",
    "\n",
    "    if node.value == value:\n",
    "        raise Exception(\"Already added.\")\n",
    "\n",
    "    if value < node.value:\n",
    "        node.left = add(node.left, value)\n",
    "        return node\n",
    "\n",
    "    if value > node.value:\n",
    "        node.right = add(node.right, value)\n",
    "        return node"
   ]
  },
  {
   "cell_type": "code",
   "execution_count": 4,
   "metadata": {},
   "outputs": [],
   "source": [
    "def contains(node, value):\n",
    "    if node == None:\n",
    "        return False\n",
    "\n",
    "    if node.value == value:\n",
    "        return True\n",
    "\n",
    "    if value < node.value:\n",
    "        return contains(node.left, value)\n",
    "\n",
    "    if value > node.value:\n",
    "        return contains(node.right, value)"
   ]
  },
  {
   "cell_type": "code",
   "execution_count": 5,
   "metadata": {},
   "outputs": [],
   "source": [
    "def delete_min(node):\n",
    "    if node.left != None:\n",
    "        (left_node, min_node) = delete_min(node.left)\n",
    "        node.left = left_node\n",
    "        return (node, min_node)\n",
    "\n",
    "    return (node.right, node)"
   ]
  },
  {
   "cell_type": "code",
   "execution_count": 6,
   "metadata": {},
   "outputs": [],
   "source": [
    "def delete(node, value):\n",
    "    if node == None:\n",
    "        raise Exception(\"Not added.\")\n",
    "\n",
    "    if node.value == value:\n",
    "        if node.left != None and node.right != None:\n",
    "            (right_node, min_node) = delete_min(node.right)\n",
    "            node.right = right_node\n",
    "            node.value = min_node.value\n",
    "            return node\n",
    "        if node.left != None:\n",
    "            return node.left\n",
    "        if node.right != None:\n",
    "            return node.right\n",
    "        return None\n",
    "\n",
    "    if value < node.value:\n",
    "        node.left = delete(node.left, value)\n",
    "        return node\n",
    "\n",
    "    if value > node.value:\n",
    "        node.right = delete(node.right, value)\n",
    "        return node"
   ]
  },
  {
   "cell_type": "code",
   "execution_count": 7,
   "metadata": {},
   "outputs": [
    {
     "name": "stdout",
     "output_type": "stream",
     "text": [
      "12, 2, 1, 5, 4, 3, 7, 13, 100, 15, "
     ]
    }
   ],
   "source": [
    "tree = Node(10)\n",
    "node_l = 2\n",
    "node_r = 13\n",
    "tree.left = Node(node_l)\n",
    "tree.right = Node(node_r)\n",
    "\n",
    "node_ll = 1\n",
    "node_lr = 5\n",
    "tree.left.left = Node(node_ll)\n",
    "tree.left.right = Node(node_lr)\n",
    "\n",
    "node_lrl = 4\n",
    "node_lrr = 7\n",
    "tree.left.right.left = Node(node_lrl)\n",
    "tree.left.right.right = Node(node_lrr)\n",
    "\n",
    "node_rl = 12\n",
    "node_rr = 20\n",
    "tree.right.left = Node(node_rl)\n",
    "tree.right.right = Node(node_rr)\n",
    "\n",
    "node_rrl = 15\n",
    "tree.right.right.left = Node(node_rrl)\n",
    "\n",
    "add(tree, 3)\n",
    "add(tree, 100)\n",
    "delete(tree, 20)\n",
    "delete(tree, 10)\n",
    "\n",
    "print_preorder(tree)"
   ]
  },
  {
   "cell_type": "code",
   "execution_count": 8,
   "metadata": {},
   "outputs": [
    {
     "data": {
      "image/png": "[encoded data removed]",
      "text/plain": [
       "<Figure size 640x480 with 1 Axes>"
      ]
     },
     "metadata": {},
     "output_type": "display_data"
    }
   ],
   "source": [
    "import matplotlib.pyplot as plt\n",
    "import networkx as nx\n",
    "\n",
    "\n",
    "def draw_tree(\n",
    "    tree, parent_name, graph, pos=None, level=0, width=2.0, vert_gap=0.4, xcenter=0.5\n",
    "):\n",
    "    if pos is None:\n",
    "        pos = {parent_name: (xcenter, 1 - level * vert_gap)}\n",
    "    else:\n",
    "        pos[parent_name] = (xcenter, 1 - level * vert_gap)\n",
    "\n",
    "    neighbors = list(graph.neighbors(parent_name))\n",
    "    if len(neighbors) != 0:\n",
    "        dx = width / 2\n",
    "        nextx = xcenter - width / 2 - dx / 2\n",
    "        for neighbor in neighbors:\n",
    "            nextx += dx\n",
    "            pos = draw_tree(\n",
    "                tree,\n",
    "                neighbor,\n",
    "                graph=graph,\n",
    "                pos=pos,\n",
    "                level=level + 1,\n",
    "                width=dx,\n",
    "                xcenter=nextx,\n",
    "            )\n",
    "    return pos\n",
    "\n",
    "\n",
    "def build_networkx_tree(tree, graph, parent=None):\n",
    "    if tree is not None:\n",
    "        graph.add_node(tree.value)\n",
    "        if parent:\n",
    "            graph.add_edge(parent, tree.value)\n",
    "        if tree.left:\n",
    "            build_networkx_tree(tree.left, graph, tree.value)\n",
    "        if tree.right:\n",
    "            build_networkx_tree(tree.right, graph, tree.value)\n",
    "\n",
    "\n",
    "# Build networkx graph\n",
    "G = nx.DiGraph()\n",
    "build_networkx_tree(tree, G)\n",
    "\n",
    "# Draw the tree\n",
    "pos = draw_tree(tree, tree.value, G)\n",
    "labels = {k: k for k, v in pos.items()}\n",
    "nx.draw(\n",
    "    G, pos=pos, labels=labels, with_labels=True, node_size=5000, node_color=\"skyblue\"\n",
    ")\n",
    "plt.show()"
   ]
  }
 ],
 "metadata": {
  "kernelspec": {
   "display_name": "venv",
   "language": "python",
   "name": "python3"
  },
  "language_info": {
   "codemirror_mode": {
    "name": "ipython",
    "version": 3
   },
   "file_extension": ".py",
   "mimetype": "text/x-python",
   "name": "python",
   "nbconvert_exporter": "python",
   "pygments_lexer": "ipython3",
   "version": "3.11.6"
  }
 },
 "nbformat": 4,
 "nbformat_minor": 2
}
