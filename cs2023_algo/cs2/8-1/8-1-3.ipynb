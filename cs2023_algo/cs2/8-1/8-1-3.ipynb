{
 "cells": [
  {
   "cell_type": "code",
   "execution_count": 21,
   "metadata": {},
   "outputs": [],
   "source": [
    "class Node:\n",
    "    def __init__(self, value):\n",
    "        self.value = value\n",
    "        self.left = None\n",
    "        self.right = None\n",
    "\n",
    "    def __str__(self):\n",
    "        return str(self.value)"
   ]
  },
  {
   "cell_type": "code",
   "execution_count": 22,
   "metadata": {},
   "outputs": [],
   "source": [
    "def print_preorder(node):\n",
    "    print(node.value, end=\", \")\n",
    "\n",
    "    if node.left != None:\n",
    "        print_preorder(node.left)\n",
    "\n",
    "    if node.right != None:\n",
    "        print_preorder(node.right)"
   ]
  },
  {
   "cell_type": "code",
   "execution_count": 23,
   "metadata": {},
   "outputs": [],
   "source": [
    "def add(node, value):\n",
    "    if node == None:\n",
    "        return Node(value)\n",
    "\n",
    "    if node.value == value:\n",
    "        raise Exception(\"Already added.\")\n",
    "\n",
    "    if value < node.value:\n",
    "        node.left = add(node.left, value)\n",
    "        return node\n",
    "\n",
    "    if value > node.value:\n",
    "        node.right = add(node.right, value)\n",
    "        return node"
   ]
  },
  {
   "cell_type": "code",
   "execution_count": 24,
   "metadata": {},
   "outputs": [
    {
     "name": "stdout",
     "output_type": "stream",
     "text": [
      "10, 2, 1, 5, 4, 7, 15, 13, 20, "
     ]
    }
   ],
   "source": [
    "tree = Node(10)\n",
    "node_l = Node(2)\n",
    "node_r = Node(15)\n",
    "tree.left = node_l\n",
    "tree.right = node_r\n",
    "\n",
    "node_ll = Node(1)\n",
    "node_lr = Node(5)\n",
    "node_l.left = node_ll\n",
    "node_l.right = node_lr\n",
    "\n",
    "node_rl = Node(13)\n",
    "node_rr = Node(20)\n",
    "node_r.left = node_rl\n",
    "node_r.right = node_rr\n",
    "\n",
    "node_lrl = Node(4)\n",
    "node_lrr = Node(7)\n",
    "node_lr.left = node_lrl\n",
    "node_lr.right = node_lrr\n",
    "\n",
    "# tree = Node(5)\n",
    "# node_l = Node(2)\n",
    "# node_r = Node(10)\n",
    "# tree.left = node_l\n",
    "# tree.right = node_r\n",
    "\n",
    "# node_ll = Node(1)\n",
    "# node_l.left = node_ll\n",
    "\n",
    "# node_rl = Node(7)\n",
    "# node_rr = Node(13)\n",
    "# node_r.left = node_rl\n",
    "# node_r.right = node_rr\n",
    "\n",
    "\n",
    "print_preorder(tree)"
   ]
  },
  {
   "cell_type": "code",
   "execution_count": 25,
   "metadata": {},
   "outputs": [
    {
     "data": {
      "image/png": "[encoded data removed]",
      "text/plain": [
       "<Figure size 640x480 with 1 Axes>"
      ]
     },
     "metadata": {},
     "output_type": "display_data"
    }
   ],
   "source": [
    "import matplotlib.pyplot as plt\n",
    "import networkx as nx\n",
    "\n",
    "\n",
    "def draw_tree(\n",
    "    tree, parent_name, graph, pos=None, level=0, width=2.0, vert_gap=0.4, xcenter=0.5\n",
    "):\n",
    "    if pos is None:\n",
    "        pos = {parent_name: (xcenter, 1 - level * vert_gap)}\n",
    "    else:\n",
    "        pos[parent_name] = (xcenter, 1 - level * vert_gap)\n",
    "\n",
    "    neighbors = list(graph.neighbors(parent_name))\n",
    "    if len(neighbors) != 0:\n",
    "        dx = width / 2\n",
    "        nextx = xcenter - width / 2 - dx / 2\n",
    "        for neighbor in neighbors:\n",
    "            nextx += dx\n",
    "            pos = draw_tree(\n",
    "                tree,\n",
    "                neighbor,\n",
    "                graph=graph,\n",
    "                pos=pos,\n",
    "                level=level + 1,\n",
    "                width=dx,\n",
    "                xcenter=nextx,\n",
    "            )\n",
    "    return pos\n",
    "\n",
    "\n",
    "def build_networkx_tree(tree, graph, parent=None):\n",
    "    if tree is not None:\n",
    "        graph.add_node(tree.value)\n",
    "        if parent:\n",
    "            graph.add_edge(parent, tree.value)\n",
    "        if tree.left:\n",
    "            build_networkx_tree(tree.left, graph, tree.value)\n",
    "        if tree.right:\n",
    "            build_networkx_tree(tree.right, graph, tree.value)\n",
    "\n",
    "\n",
    "# Build networkx graph\n",
    "G = nx.DiGraph()\n",
    "build_networkx_tree(tree, G)\n",
    "\n",
    "# Draw the tree\n",
    "pos = draw_tree(tree, tree.value, G)\n",
    "labels = {k: k for k, v in pos.items()}\n",
    "nx.draw(\n",
    "    G, pos=pos, labels=labels, with_labels=True, node_size=5000, node_color=\"skyblue\"\n",
    ")\n",
    "plt.show()"
   ]
  }
 ],
 "metadata": {
  "kernelspec": {
   "display_name": "venv",
   "language": "python",
   "name": "python3"
  },
  "language_info": {
   "codemirror_mode": {
    "name": "ipython",
    "version": 3
   },
   "file_extension": ".py",
   "mimetype": "text/x-python",
   "name": "python",
   "nbconvert_exporter": "python",
   "pygments_lexer": "ipython3",
   "version": "3.11.6"
  }
 },
 "nbformat": 4,
 "nbformat_minor": 2
}
