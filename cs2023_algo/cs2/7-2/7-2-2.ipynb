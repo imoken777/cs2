{
 "cells": [
  {
   "cell_type": "code",
   "execution_count": 5,
   "metadata": {},
   "outputs": [],
   "source": [
    "class Node:\n",
    "    def __init__(self, key, value):\n",
    "        self.key = key\n",
    "        self.value = value\n",
    "\n",
    "\n",
    "def h(x):\n",
    "    return hash(x) % 10\n",
    "\n",
    "\n",
    "def put(table, key, value):\n",
    "    hash_value = h(key)\n",
    "    if table[hash_value] == None:\n",
    "        table[hash_value] = Node(key, value)\n",
    "\n",
    "\n",
    "def get(table, key):\n",
    "    hash_value = h(key)\n",
    "    if table[hash_value] != None and table[hash_value].key == key:\n",
    "        return table[hash_value].value\n",
    "    return None"
   ]
  },
  {
   "cell_type": "code",
   "execution_count": 8,
   "metadata": {},
   "outputs": [
    {
     "name": "stdout",
     "output_type": "stream",
     "text": [
      "232 ns ± 10.7 ns per loop (mean ± std. dev. of 7 runs, 1,000,000 loops each)\n",
      "252 ns ± 38 ns per loop (mean ± std. dev. of 7 runs, 1,000,000 loops each)\n",
      "251 ns ± 27.4 ns per loop (mean ± std. dev. of 7 runs, 1,000,000 loops each)\n",
      "250 ns ± 16.8 ns per loop (mean ± std. dev. of 7 runs, 1,000,000 loops each)\n",
      "179 ns ± 8.42 ns per loop (mean ± std. dev. of 7 runs, 1,000,000 loops each)\n",
      "179 ns ± 3.24 ns per loop (mean ± std. dev. of 7 runs, 10,000,000 loops each)\n",
      "174 ns ± 16.3 ns per loop (mean ± std. dev. of 7 runs, 10,000,000 loops each)\n",
      "177 ns ± 4.23 ns per loop (mean ± std. dev. of 7 runs, 10,000,000 loops each)\n",
      "201 ns ± 26.1 ns per loop (mean ± std. dev. of 7 runs, 1,000,000 loops each)\n",
      "201 ns ± 33.6 ns per loop (mean ± std. dev. of 7 runs, 1,000,000 loops each)\n"
     ]
    }
   ],
   "source": [
    "import random\n",
    "\n",
    "def make_dict(n):\n",
    "    result = [None] * 10000\n",
    "    keys = random.sample(range(1000000), n)\n",
    "    values = random.choices('abcdefghijklmnopqrstuvwxyz', k=n)\n",
    "    for key, value in zip(keys, values):\n",
    "        put(result, key, value)\n",
    "    return result\n",
    "\n",
    "for i in range(1, 11):\n",
    "    target = make_dict(i * 1000)\n",
    "    %timeit get(target, 1000000)"
   ]
  }
 ],
 "metadata": {
  "kernelspec": {
   "display_name": "venv",
   "language": "python",
   "name": "python3"
  },
  "language_info": {
   "codemirror_mode": {
    "name": "ipython",
    "version": 3
   },
   "file_extension": ".py",
   "mimetype": "text/x-python",
   "name": "python",
   "nbconvert_exporter": "python",
   "pygments_lexer": "ipython3",
   "version": "3.11.6"
  }
 },
 "nbformat": 4,
 "nbformat_minor": 2
}
