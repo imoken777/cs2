{
 "cells": [
  {
   "cell_type": "code",
   "execution_count": 6,
   "metadata": {},
   "outputs": [
    {
     "name": "stdout",
     "output_type": "stream",
     "text": [
      "Collision, 66\n",
      "Collision, 77\n",
      "Collision, 94\n",
      "None, 0\n",
      "None, 8\n",
      "None, 9\n",
      "[None, 21, 72, 13, 94, 95, 66, 77, None, None]\n"
     ]
    }
   ],
   "source": [
    "def h(x):\n",
    "    return x % 10\n",
    "\n",
    "\n",
    "def add(table, x):\n",
    "    hash_value = h(x)\n",
    "    if table[hash_value] != None:\n",
    "        print(f\"Collision, {x}\")\n",
    "    table[hash_value] = x\n",
    "\n",
    "\n",
    "lst = [13, 14, 21, 46, 66, 67, 72, 77, 94, 95]\n",
    "table = [None] * len(lst)\n",
    "\n",
    "for i in lst:\n",
    "    add(table, i)\n",
    "\n",
    "count = 0\n",
    "for i in table:\n",
    "    if i == None:\n",
    "        print(f\"None, {count}\")\n",
    "    count += 1\n",
    "print(table)"
   ]
  },
  {
   "cell_type": "code",
   "execution_count": 10,
   "metadata": {},
   "outputs": [
    {
     "name": "stdout",
     "output_type": "stream",
     "text": [
      "Collision, Ebisu\n",
      "Collision, Osaki\n",
      "None, 0\n",
      "None, 1\n",
      "None, 9\n",
      "[None, None, 'Jujo', 'Itabashi', 'Osaki', 'Yoyogi', 'Shibuya', 'Akabane', 'Ikebukuro', None]\n"
     ]
    }
   ],
   "source": [
    "def h2(x):\n",
    "    return hash(x) % 10\n",
    "\n",
    "\n",
    "def add2(table, x):\n",
    "    hash_value = h2(x)\n",
    "    if table[hash_value] != None:\n",
    "        print(f\"Collision, {x}\")\n",
    "    table[hash_value] = x\n",
    "\n",
    "\n",
    "lst2 = [\n",
    "    \"Akabane\",\n",
    "    \"Jujo\",\n",
    "    \"Itabashi\",\n",
    "    \"Ikebukuro\",\n",
    "    \"Shinjuku\",\n",
    "    \"Yoyogi\",\n",
    "    \"Shibuya\",\n",
    "    \"Ebisu\",\n",
    "    \"Osaki\",\n",
    "]\n",
    "table2 = [None] * len(lst)\n",
    "\n",
    "for i in lst2:\n",
    "    add2(table2, i)\n",
    "\n",
    "count2 = 0\n",
    "for i in table2:\n",
    "    if i == None:\n",
    "        print(f\"None, {count2}\")\n",
    "    count2 += 1\n",
    "print(table2)"
   ]
  }
 ],
 "metadata": {
  "kernelspec": {
   "display_name": "venv",
   "language": "python",
   "name": "python3"
  },
  "language_info": {
   "codemirror_mode": {
    "name": "ipython",
    "version": 3
   },
   "file_extension": ".py",
   "mimetype": "text/x-python",
   "name": "python",
   "nbconvert_exporter": "python",
   "pygments_lexer": "ipython3",
   "version": "3.11.6"
  }
 },
 "nbformat": 4,
 "nbformat_minor": 2
}
