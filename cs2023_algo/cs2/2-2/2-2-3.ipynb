{
 "cells": [
  {
   "cell_type": "markdown",
   "metadata": {},
   "source": [
    "## 課題2-2-3\n",
    "- 上で定義した関数func1について、nを100000から1000000 に変化させた時、実行時間が何倍になるかを計測してください\n",
    "- 上で定義した関数func2について、nを1000から10000に変化させた\n",
    "時、実行時間が何倍になるかを計測してください\n",
    "- 上で定義した関数func3について、nを20から30に変化させた時 、 実行時間が何倍になるかを計測してください"
   ]
  },
  {
   "cell_type": "code",
   "execution_count": 4,
   "metadata": {},
   "outputs": [],
   "source": [
    "import time\n",
    "\n",
    "def func1(n):\n",
    "    s = 0\n",
    "    for i in range(n):\n",
    "        s += i\n",
    "    return s\n",
    "\n",
    "def func2(n):\n",
    "    s = 0\n",
    "    for i in range(n):\n",
    "        for j in range(n):\n",
    "            s += i\n",
    "    return s\n",
    "\n",
    "def func3(n):\n",
    "    s = 0\n",
    "    for i in range(2 ** n):\n",
    "        s += i\n",
    "    return s"
   ]
  },
  {
   "cell_type": "code",
   "execution_count": 5,
   "metadata": {},
   "outputs": [
    {
     "name": "stdout",
     "output_type": "stream",
     "text": [
      "8.018765420383374\n"
     ]
    }
   ],
   "source": [
    "start = time.time()\n",
    "func1(100000)\n",
    "end = time.time()\n",
    "start2 = time.time()\n",
    "func1(1000000)\n",
    "end2 = time.time()\n",
    "print((end2 - start2) / (end - start))"
   ]
  },
  {
   "cell_type": "code",
   "execution_count": 6,
   "metadata": {},
   "outputs": [
    {
     "name": "stdout",
     "output_type": "stream",
     "text": [
      "89.45516854094372\n"
     ]
    }
   ],
   "source": [
    "start = time.time()\n",
    "func2(1000)\n",
    "end = time.time()\n",
    "start2 = time.time()\n",
    "func2(10000)\n",
    "end2 = time.time()\n",
    "print((end2 - start2) / (end - start))"
   ]
  },
  {
   "cell_type": "code",
   "execution_count": 8,
   "metadata": {},
   "outputs": [
    {
     "name": "stdout",
     "output_type": "stream",
     "text": [
      "940.2107818005302\n"
     ]
    }
   ],
   "source": [
    "start = time.time()\n",
    "func3(20)\n",
    "end = time.time()\n",
    "start2 = time.time()\n",
    "func3(30)\n",
    "end2 = time.time()\n",
    "print((end2 - start2) / (end - start))"
   ]
  }
 ],
 "metadata": {
  "kernelspec": {
   "display_name": "venv",
   "language": "python",
   "name": "python3"
  },
  "language_info": {
   "codemirror_mode": {
    "name": "ipython",
    "version": 3
   },
   "file_extension": ".py",
   "mimetype": "text/x-python",
   "name": "python",
   "nbconvert_exporter": "python",
   "pygments_lexer": "ipython3",
   "version": "3.11.6"
  },
  "orig_nbformat": 4
 },
 "nbformat": 4,
 "nbformat_minor": 2
}
