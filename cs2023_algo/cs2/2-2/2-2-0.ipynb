{
 "cells": [
  {
   "cell_type": "markdown",
   "metadata": {},
   "source": [
    "## 出席課題\n",
    "\n",
    "最小公倍数の計算\n",
    "2 つの正の整数 a と b をパラメーターとして受け取り\n",
    "(a,b>0)\n",
    "それらの最小公倍数を返す Python 関数 my_lcm(a, b) を定義してください。\n",
    "\n",
    "組込関数の math.lcm および math.gcd は利用しないこと。\n"
   ]
  },
  {
   "cell_type": "code",
   "execution_count": 8,
   "metadata": {},
   "outputs": [
    {
     "name": "stdout",
     "output_type": "stream",
     "text": [
      "72\n"
     ]
    }
   ],
   "source": [
    "def gcd(a, b):\n",
    "    if a < b:\n",
    "        a, b = b, a\n",
    "    r = a % b\n",
    "    if r == 0:\n",
    "        return b\n",
    "    return gcd(b, r)\n",
    "\n",
    "\n",
    "def my_lcm(a, b):\n",
    "    return a * b // gcd(a, b)\n",
    "\n",
    "\n",
    "print(my_lcm(18, 24))"
   ]
  }
 ],
 "metadata": {
  "kernelspec": {
   "display_name": "venv",
   "language": "python",
   "name": "python3"
  },
  "language_info": {
   "codemirror_mode": {
    "name": "ipython",
    "version": 3
   },
   "file_extension": ".py",
   "mimetype": "text/x-python",
   "name": "python",
   "nbconvert_exporter": "python",
   "pygments_lexer": "ipython3",
   "version": "3.11.6"
  }
 },
 "nbformat": 4,
 "nbformat_minor": 2
}
