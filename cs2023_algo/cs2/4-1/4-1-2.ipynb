{
 "cells": [
  {
   "cell_type": "code",
   "execution_count": 16,
   "metadata": {},
   "outputs": [],
   "source": [
    "class Node:\n",
    "    def __init__(self, value):\n",
    "        self.value = value\n",
    "        self.next = None\n",
    "\n",
    "    def __str__(self):\n",
    "        return str(self.value)"
   ]
  },
  {
   "cell_type": "code",
   "execution_count": 17,
   "metadata": {},
   "outputs": [],
   "source": [
    "def print_list(top):\n",
    "    print(\"<\", end=\"\")\n",
    "    node = top\n",
    "    while node is not None:\n",
    "        print(node, end=\", \")\n",
    "        node = node.next\n",
    "    print(\">\")"
   ]
  },
  {
   "cell_type": "code",
   "execution_count": 18,
   "metadata": {},
   "outputs": [],
   "source": [
    "def insert(prev, x):\n",
    "    new_node = Node(x)\n",
    "    new_node.next = prev.next\n",
    "    prev.next = new_node\n",
    "    return new_node"
   ]
  },
  {
   "cell_type": "code",
   "execution_count": 19,
   "metadata": {},
   "outputs": [],
   "source": [
    "def pop(prev):\n",
    "    result = prev.next\n",
    "    prev.next = result.next\n",
    "    result.next = None\n",
    "    return result"
   ]
  },
  {
   "cell_type": "code",
   "execution_count": 20,
   "metadata": {},
   "outputs": [],
   "source": [
    "def create_list(n):\n",
    "    top = Node(0)\n",
    "    for i in range(1, n):\n",
    "        insert(top, n - i)\n",
    "    return top"
   ]
  },
  {
   "cell_type": "code",
   "execution_count": 23,
   "metadata": {},
   "outputs": [],
   "source": [
    "def index(top, x):\n",
    "    node = top\n",
    "    while node is not None:\n",
    "        if node.value == x:\n",
    "            return node\n",
    "        node = node.next\n",
    "    return None"
   ]
  },
  {
   "cell_type": "code",
   "execution_count": 24,
   "metadata": {},
   "outputs": [
    {
     "name": "stdout",
     "output_type": "stream",
     "text": [
      "<0, 1, 2, 3, 4, 5, 6, 7, 8, 9, >\n",
      "<0, 1, 2, 100, 3, 4, 5, 6, 7, 8, 9, >\n",
      "<0, 1, 2, 100, 3, 4, 5, 7, 8, 9, >\n"
     ]
    }
   ],
   "source": [
    "lst = create_list(10)\n",
    "print_list(lst)\n",
    "\n",
    "found = index(lst, 2)\n",
    "insert(found, 100)\n",
    "print_list(lst)\n",
    "\n",
    "found = index(lst, 5)\n",
    "pop(found)\n",
    "print_list(lst)"
   ]
  }
 ],
 "metadata": {
  "kernelspec": {
   "display_name": "venv",
   "language": "python",
   "name": "python3"
  },
  "language_info": {
   "codemirror_mode": {
    "name": "ipython",
    "version": 3
   },
   "file_extension": ".py",
   "mimetype": "text/x-python",
   "name": "python",
   "nbconvert_exporter": "python",
   "pygments_lexer": "ipython3",
   "version": "3.11.6"
  }
 },
 "nbformat": 4,
 "nbformat_minor": 2
}
