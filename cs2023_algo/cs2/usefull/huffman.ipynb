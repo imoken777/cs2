{
 "cells": [
  {
   "cell_type": "markdown",
   "metadata": {},
   "source": [
    "## ハフマン符号を生成する\n"
   ]
  },
  {
   "cell_type": "code",
   "execution_count": 16,
   "metadata": {},
   "outputs": [],
   "source": [
    "import heapq\n",
    "from collections import defaultdict\n",
    "\n",
    "\n",
    "class Node:\n",
    "    def __init__(self, char, freq):\n",
    "        self.char = char\n",
    "        self.freq = freq\n",
    "        self.left = None\n",
    "        self.right = None\n",
    "\n",
    "    def __lt__(self, other):\n",
    "        return self.freq < other.freq\n",
    "\n",
    "\n",
    "def calculate_frequency(s):\n",
    "    total = len(s)\n",
    "    frequency = defaultdict(int)\n",
    "\n",
    "    for char in s:\n",
    "        frequency[char] += 1\n",
    "\n",
    "    for char, freq in frequency.items():\n",
    "        frequency[char] = freq / total * 100  # Convert to percentage\n",
    "\n",
    "    return frequency\n",
    "\n",
    "\n",
    "def build_huffman_tree(frequency):\n",
    "    heap = [Node(char, freq) for char, freq in frequency.items()]\n",
    "    heapq.heapify(heap)\n",
    "\n",
    "    while len(heap) > 1:\n",
    "        left = heapq.heappop(heap)\n",
    "        right = heapq.heappop(heap)\n",
    "\n",
    "        merged = Node(None, left.freq + right.freq)\n",
    "        merged.left = left\n",
    "        merged.right = right\n",
    "\n",
    "        heapq.heappush(heap, merged)\n",
    "\n",
    "    return heap[0]\n",
    "\n",
    "\n",
    "def generate_huffman_codes(node, code=\"\", mapping=None):\n",
    "    if mapping is None:\n",
    "        mapping = {}\n",
    "\n",
    "    if node is not None:\n",
    "        if node.char is not None:\n",
    "            mapping[node.char] = code\n",
    "\n",
    "        generate_huffman_codes(node.left, code + \"0\", mapping)\n",
    "        generate_huffman_codes(node.right, code + \"1\", mapping)\n",
    "\n",
    "    return mapping\n",
    "\n",
    "\n",
    "def adjust_codes(huffman_codes, fixed_code):\n",
    "    for char, code in huffman_codes.items():\n",
    "        if code.startswith(fixed_code):\n",
    "            huffman_codes[char] = \"1\" + code\n",
    "    return huffman_codes\n",
    "\n",
    "\n",
    "def calculate_compression_ratio(frequency, huffman_codes):\n",
    "    huffman_length = sum(\n",
    "        frequency[char] * len(huffman_codes[char]) for char in huffman_codes\n",
    "    )\n",
    "    fixed_length = 3 * 100  # 2 bits for each character, and the total frequency is 100%\n",
    "    return (huffman_length / fixed_length) * 100\n",
    "\n",
    "\n",
    "def encode_string(s, huffman_codes):\n",
    "    return sum(len(huffman_codes[char]) for char in s)\n",
    "\n",
    "\n",
    "def huffman_coding(frequency):\n",
    "    huffman_tree = build_huffman_tree(frequency)\n",
    "    huffman_codes = generate_huffman_codes(huffman_tree)\n",
    "    return huffman_codes"
   ]
  },
  {
   "cell_type": "code",
   "execution_count": 17,
   "metadata": {},
   "outputs": [
    {
     "name": "stdout",
     "output_type": "stream",
     "text": [
      "各文字と頻度: {'A': 10, 'C': 15, 'G': 15, 'H': 5, 'P': 5, 'T': 50}\n",
      "ハフマンコード: {'T': '0', 'A': '100', 'P': '1010', 'H': '1011', 'G': '110', 'C': '111'}\n",
      "Compression ratio compared to 2-bit fixed length: 70.00%\n"
     ]
    }
   ],
   "source": [
    "##各文字とその出現頻度を渡すと、ハフマン符号を返す関数\n",
    "if __name__ == \"__main__\":\n",
    "    frequency = {\"A\": 10, \"C\": 15, \"G\": 15, \"H\": 5, \"P\": 5, \"T\": 50}\n",
    "    huffman_codes = huffman_coding(frequency)\n",
    "    print(\"各文字と頻度:\", frequency)\n",
    "    print(\"ハフマンコード:\", huffman_codes)\n",
    "    ##ハフマンコードで文字列をエンコードすると、各文字に2bitずつ割り当てた場合の約何%の長さとなるかを返す関数\n",
    "    compression_ratio = calculate_compression_ratio(frequency, huffman_codes)\n",
    "    print(f\"Compression ratio compared to 2-bit fixed length: {compression_ratio:.2f}%\")"
   ]
  },
  {
   "cell_type": "code",
   "execution_count": 18,
   "metadata": {},
   "outputs": [
    {
     "name": "stdout",
     "output_type": "stream",
     "text": [
      "各文字と頻度: defaultdict(<class 'int'>, {'G': 40.0, 'C': 33.33333333333333, 'T': 16.666666666666664, 'A': 10.0})\n",
      "ハフマンコード: {'G': '0', 'A': '100', 'T': '101', 'C': '11'}\n",
      "Encoded string length: 56 bits\n"
     ]
    }
   ],
   "source": [
    "##文字列を与えるとその文字列のハフマン符号を返す\n",
    "if __name__ == \"__main__\":\n",
    "    s = \"GGCCGGGCGCGGTGGCTCACGCCTGTAATC\"\n",
    "    frequency2 = calculate_frequency(s)\n",
    "    huffman_codes2 = huffman_coding(frequency2)\n",
    "    ##元の文字列を生成した符号でエンコードした結果の bit 長を返す関数\n",
    "    encoded_length = encode_string(s, huffman_codes2)\n",
    "    print(\"各文字と頻度:\", frequency2)\n",
    "    print(\"ハフマンコード:\", huffman_codes2)\n",
    "    print(f\"Encoded string length: {encoded_length} bits\")"
   ]
  },
  {
   "cell_type": "code",
   "execution_count": 19,
   "metadata": {},
   "outputs": [
    {
     "name": "stdout",
     "output_type": "stream",
     "text": [
      "文字列全体をハフマン符号化した結果: 00111100011011001010011101111001101111101010110010010111\n",
      "平均bit数: 210\n"
     ]
    }
   ],
   "source": [
    "## 平均bit数を計算する関数\n",
    "def average_bits(frequency, huffman_codes):\n",
    "    return sum(frequency[char] * len(huffman_codes[char]) for char in frequency)\n",
    "\n",
    "\n",
    "## 文字列全体をハフマン符号化した結果を返す関数\n",
    "def huffman_code_to_string(s, huffman_codes):\n",
    "    return \"\".join(huffman_codes[char] for char in s)\n",
    "\n",
    "\n",
    "print(\"文字列全体をハフマン符号化した結果:\", huffman_code_to_string(s, huffman_codes2))\n",
    "print(\"平均bit数:\", average_bits(frequency, huffman_codes))"
   ]
  },
  {
   "cell_type": "markdown",
   "metadata": {},
   "source": [
    "文字に符号の指定がある場合\n"
   ]
  },
  {
   "cell_type": "code",
   "execution_count": 20,
   "metadata": {},
   "outputs": [
    {
     "name": "stdout",
     "output_type": "stream",
     "text": [
      "ハフマンコード: {'A': '100', 'C': '010', 'G': '110', 'H': '1000', 'P': '0000', 'T': '1'}\n",
      "Compression ratio compared to 2-bit fixed length: 70.00%\n"
     ]
    }
   ],
   "source": [
    "def huffman_coding_with_fixed_code(frequency, fixed_char, fixed_code):\n",
    "    total_freq_excluding_fixed = sum(\n",
    "        freq for char, freq in frequency.items() if char != fixed_char\n",
    "    )\n",
    "    adjusted_frequency = {\n",
    "        char: (freq / total_freq_excluding_fixed) * 100\n",
    "        for char, freq in frequency.items()\n",
    "        if char != fixed_char\n",
    "    }\n",
    "\n",
    "    # ハフマンツリーを構築\n",
    "    huffman_tree = build_huffman_tree(adjusted_frequency)\n",
    "\n",
    "    # ハフマンコードを生成\n",
    "    huffman_codes = generate_huffman_codes(huffman_tree)\n",
    "\n",
    "    # 固定されたコードを追加\n",
    "    huffman_codes[fixed_char] = fixed_code\n",
    "\n",
    "    return huffman_codes\n",
    "\n",
    "\n",
    "# 各文字とその出現頻度\n",
    "frequency = {\"A\": 10, \"C\": 15, \"G\": 15, \"H\": 5, \"P\": 5, \"T\": 50}\n",
    "\n",
    "# ハフマン符号の生成（Aに000を割り当てる）\n",
    "huffman_codes = {\"A\": \"100\", \"C\": \"010\", \"G\": \"110\", \"H\": \"1000\", \"P\": \"0000\", \"T\": \"1\"}\n",
    "print(\"ハフマンコード:\", huffman_codes)\n",
    "compression_ratio = calculate_compression_ratio(frequency, huffman_codes)\n",
    "print(f\"Compression ratio compared to 2-bit fixed length: {compression_ratio:.2f}%\")"
   ]
  }
 ],
 "metadata": {
  "kernelspec": {
   "display_name": "venv",
   "language": "python",
   "name": "python3"
  },
  "language_info": {
   "codemirror_mode": {
    "name": "ipython",
    "version": 3
   },
   "file_extension": ".py",
   "mimetype": "text/x-python",
   "name": "python",
   "nbconvert_exporter": "python",
   "pygments_lexer": "ipython3",
   "version": "3.11.6"
  }
 },
 "nbformat": 4,
 "nbformat_minor": 2
}
