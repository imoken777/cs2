{
 "cells": [
  {
   "cell_type": "markdown",
   "metadata": {},
   "source": [
    "## ハフマン符号を生成する\n"
   ]
  },
  {
   "cell_type": "code",
   "execution_count": 40,
   "metadata": {},
   "outputs": [],
   "source": [
    "import heapq\n",
    "from collections import defaultdict\n",
    "\n",
    "\n",
    "class Node:\n",
    "    def __init__(self, char, freq):\n",
    "        self.char = char\n",
    "        self.freq = freq\n",
    "        self.left = None\n",
    "        self.right = None\n",
    "\n",
    "    def __lt__(self, other):\n",
    "        return self.freq < other.freq\n",
    "\n",
    "\n",
    "def calculate_frequency(s):\n",
    "    total = len(s)\n",
    "    frequency = defaultdict(int)\n",
    "\n",
    "    for char in s:\n",
    "        frequency[char] += 1\n",
    "\n",
    "    for char, freq in frequency.items():\n",
    "        frequency[char] = freq / total * 100  # Convert to percentage\n",
    "\n",
    "    return frequency\n",
    "\n",
    "\n",
    "def build_huffman_tree(frequency):\n",
    "    heap = [Node(char, freq) for char, freq in frequency.items()]\n",
    "    heapq.heapify(heap)\n",
    "\n",
    "    while len(heap) > 1:\n",
    "        left = heapq.heappop(heap)\n",
    "        right = heapq.heappop(heap)\n",
    "\n",
    "        merged = Node(None, left.freq + right.freq)\n",
    "        merged.left = left\n",
    "        merged.right = right\n",
    "\n",
    "        heapq.heappush(heap, merged)\n",
    "\n",
    "    return heap[0]\n",
    "\n",
    "\n",
    "def generate_huffman_codes(node, code=\"\", mapping=None):\n",
    "    if mapping is None:\n",
    "        mapping = {}\n",
    "\n",
    "    if node is not None:\n",
    "        if node.char is not None:\n",
    "            mapping[node.char] = code\n",
    "\n",
    "        generate_huffman_codes(node.left, code + \"0\", mapping)\n",
    "        generate_huffman_codes(node.right, code + \"1\", mapping)\n",
    "\n",
    "    return mapping\n",
    "\n",
    "\n",
    "def calculate_compression_ratio(frequency, huffman_codes):\n",
    "    huffman_length = sum(\n",
    "        frequency[char] * len(huffman_codes[char]) for char in huffman_codes\n",
    "    )\n",
    "    fixed_length = 2 * 100  # 2 bits for each character, and the total frequency is 100%\n",
    "    return (huffman_length / fixed_length) * 100\n",
    "\n",
    "\n",
    "def encode_string(s, huffman_codes):\n",
    "    return sum(len(huffman_codes[char]) for char in s)\n",
    "\n",
    "\n",
    "def huffman_coding(frequency):\n",
    "    huffman_tree = build_huffman_tree(frequency)\n",
    "    huffman_codes = generate_huffman_codes(huffman_tree)\n",
    "    return huffman_codes"
   ]
  },
  {
   "cell_type": "code",
   "execution_count": 41,
   "metadata": {},
   "outputs": [
    {
     "name": "stdout",
     "output_type": "stream",
     "text": [
      "各文字と頻度: {'A': 45, 'B': 45, 'C': 5, 'D': 5}\n",
      "ハフマンコード: {'B': '0', 'C': '100', 'D': '101', 'A': '11'}\n",
      "Compression ratio compared to 2-bit fixed length: 82.50%\n"
     ]
    }
   ],
   "source": [
    "##各文字とその出現頻度を渡すと、ハフマン符号を返す関数\n",
    "if __name__ == \"__main__\":\n",
    "    frequency = {\"A\": 45, \"B\": 45, \"C\": 5, \"D\": 5}\n",
    "    huffman_codes = huffman_coding(frequency)\n",
    "    print(\"各文字と頻度:\", frequency)\n",
    "    print(\"ハフマンコード:\", huffman_codes)\n",
    "    ##ハフマンコードで文字列をエンコードすると、各文字に2bitずつ割り当てた場合の約何%の長さとなるかを返す関数\n",
    "    compression_ratio = calculate_compression_ratio(frequency, huffman_codes)\n",
    "    print(f\"Compression ratio compared to 2-bit fixed length: {compression_ratio:.2f}%\")"
   ]
  },
  {
   "cell_type": "code",
   "execution_count": 42,
   "metadata": {},
   "outputs": [
    {
     "name": "stdout",
     "output_type": "stream",
     "text": [
      "各文字と頻度: defaultdict(<class 'int'>, {'S': 4.0, 'U': 4.0, 'M': 40.0, 'O': 40.0, '_': 12.0})\n",
      "ハフマンコード: {'O': '0', 'U': '1000', 'S': '1001', '_': '101', 'M': '11'}\n",
      "Encoded string length: 47 bits\n"
     ]
    }
   ],
   "source": [
    "##文字列を与えるとその文字列のハフマン符号を返す\n",
    "if __name__ == \"__main__\":\n",
    "    s = \"SUMOMOMO_MOMO_MOMOMO_MOMO\"\n",
    "    frequency = calculate_frequency(s)\n",
    "    huffman_codes = huffman_coding(frequency)\n",
    "    ##元の文字列を生成した符号でエンコードした結果の bit 長を返す関数\n",
    "    encoded_length = encode_string(s, huffman_codes)\n",
    "    print(\"各文字と頻度:\", frequency)\n",
    "    print(\"ハフマンコード:\", huffman_codes)\n",
    "    print(f\"Encoded string length: {encoded_length} bits\")"
   ]
  }
 ],
 "metadata": {
  "kernelspec": {
   "display_name": "venv",
   "language": "python",
   "name": "python3"
  },
  "language_info": {
   "codemirror_mode": {
    "name": "ipython",
    "version": 3
   },
   "file_extension": ".py",
   "mimetype": "text/x-python",
   "name": "python",
   "nbconvert_exporter": "python",
   "pygments_lexer": "ipython3",
   "version": "3.11.6"
  }
 },
 "nbformat": 4,
 "nbformat_minor": 2
}
