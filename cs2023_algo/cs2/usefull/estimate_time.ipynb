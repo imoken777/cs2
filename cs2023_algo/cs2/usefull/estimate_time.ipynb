{
 "cells": [
  {
   "cell_type": "markdown",
   "metadata": {},
   "source": [
    "## python の組み込みソート\n",
    "\n",
    "python の組み込みソートの計算量は$O(n \\log n)$です。\n"
   ]
  },
  {
   "cell_type": "markdown",
   "metadata": {},
   "source": [
    "## クイックソート\n",
    "\n",
    "クイックソートの平均計算量は$O(n \\log n)$最悪計算量は$O(n ^ 2)$\n"
   ]
  },
  {
   "cell_type": "markdown",
   "metadata": {},
   "source": [
    "## マージソート\n",
    "\n",
    "マージソートの計算量は$O(n \\log n)$です。\n"
   ]
  },
  {
   "cell_type": "code",
   "execution_count": 21,
   "metadata": {},
   "outputs": [
    {
     "name": "stdout",
     "output_type": "stream",
     "text": [
      "12.5\n"
     ]
    }
   ],
   "source": [
    "import math\n",
    "\n",
    "\n",
    "def estimate_nlogn(len1, len2, time1):\n",
    "    factor = (len2 * math.log2(len2)) / (len1 * math.log2(len1))\n",
    "    time2 = time1 * factor\n",
    "    return time2\n",
    "\n",
    "\n",
    "print(estimate_nlogn(10000, 100000, 1))"
   ]
  },
  {
   "cell_type": "markdown",
   "metadata": {},
   "source": [
    "## 選択ソート\n",
    "\n",
    "選択ソートの計算量は$O(n ^ 2)$\n",
    "\n",
    "リストの長さが a のとき a ms かかった\n",
    "リストの長さが x のとき何 ms かかるか\n"
   ]
  },
  {
   "cell_type": "code",
   "execution_count": 22,
   "metadata": {},
   "outputs": [
    {
     "name": "stdout",
     "output_type": "stream",
     "text": [
      "4.0\n"
     ]
    }
   ],
   "source": [
    "def estimate_n_squared(len1, len2, time1):\n",
    "    a = len2 / len1\n",
    "    o = a**2\n",
    "    s = o * time1\n",
    "    return s\n",
    "\n",
    "\n",
    "print(estimate_n_squared(1000, 2000, 1))"
   ]
  }
 ],
 "metadata": {
  "kernelspec": {
   "display_name": "venv",
   "language": "python",
   "name": "python3"
  },
  "language_info": {
   "codemirror_mode": {
    "name": "ipython",
    "version": 3
   },
   "file_extension": ".py",
   "mimetype": "text/x-python",
   "name": "python",
   "nbconvert_exporter": "python",
   "pygments_lexer": "ipython3",
   "version": "3.11.6"
  }
 },
 "nbformat": 4,
 "nbformat_minor": 2
}
