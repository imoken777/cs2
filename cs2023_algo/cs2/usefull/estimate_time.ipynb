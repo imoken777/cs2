{
 "cells": [
  {
   "cell_type": "markdown",
   "metadata": {},
   "source": [
    "## python の組み込みソート\n",
    "\n",
    "python の組み込みソートの計算量は$O(n \\log n)$です。\n"
   ]
  },
  {
   "cell_type": "markdown",
   "metadata": {},
   "source": [
    "## クイックソート\n",
    "\n",
    "クイックソートの平均計算量は$O(n \\log n)$最悪計算量は$O(n ^ 2)$\n"
   ]
  },
  {
   "cell_type": "markdown",
   "metadata": {},
   "source": [
    "## マージソート\n",
    "\n",
    "マージソートの計算量は$O(n \\log n)$です。\n"
   ]
  },
  {
   "cell_type": "code",
   "execution_count": 8,
   "metadata": {},
   "outputs": [
    {
     "name": "stdout",
     "output_type": "stream",
     "text": [
      "2.0000000000000004\n"
     ]
    }
   ],
   "source": [
    "import math\n",
    "\n",
    "\n",
    "def estimate_nlogn(len1, len2, time1):\n",
    "    factor = (len2 * math.log2(len2)) / (len1 * math.log2(len1))\n",
    "    time2 = time1 * factor\n",
    "    return time2\n",
    "\n",
    "\n",
    "print(estimate_nlogn(250000, 500, 2000))"
   ]
  },
  {
   "cell_type": "markdown",
   "metadata": {},
   "source": [
    "## 選択ソート\n",
    "\n",
    "選択ソートの計算量は$O(n ^ 2)$\n",
    "\n",
    "リストの長さが a のとき a ms かかった\n",
    "リストの長さが x のとき何 ms かかるか\n"
   ]
  },
  {
   "cell_type": "code",
   "execution_count": 9,
   "metadata": {},
   "outputs": [
    {
     "name": "stdout",
     "output_type": "stream",
     "text": [
      "5.0\n"
     ]
    }
   ],
   "source": [
    "def estimate_n_squared(len1, len2, time1):\n",
    "    a = len2 / len1\n",
    "    o = a**2\n",
    "    s = o * time1\n",
    "    return s\n",
    "\n",
    "\n",
    "print(estimate_n_squared(10000, 5000, 20))"
   ]
  },
  {
   "cell_type": "markdown",
   "metadata": {},
   "source": [
    "## 二分探索\n",
    "\n",
    "$ O(\\log n) $\n"
   ]
  },
  {
   "cell_type": "code",
   "execution_count": 10,
   "metadata": {},
   "outputs": [
    {
     "name": "stdout",
     "output_type": "stream",
     "text": [
      "6.0\n"
     ]
    }
   ],
   "source": [
    "def estimate_time2(len1, len2, time1):\n",
    "    ratio = math.log2(len2) / math.log2(len1)\n",
    "    estimated_time = time1 * ratio\n",
    "    return estimated_time\n",
    "\n",
    "\n",
    "print(estimate_time2(10000, 1000000, 4))"
   ]
  },
  {
   "cell_type": "markdown",
   "metadata": {},
   "source": [
    "$ O(n) $\n"
   ]
  },
  {
   "cell_type": "code",
   "execution_count": 11,
   "metadata": {},
   "outputs": [
    {
     "name": "stdout",
     "output_type": "stream",
     "text": [
      "40.0\n"
     ]
    }
   ],
   "source": [
    "def estimate_linear(len1, len2, time1):\n",
    "    ratio = len2 / len1\n",
    "    estimated_time = time1 * ratio\n",
    "    return estimated_time\n",
    "\n",
    "\n",
    "print(estimate_linear(10000, 100000, 4))"
   ]
  },
  {
   "cell_type": "markdown",
   "metadata": {},
   "source": [
    "$ O (2^n) $\n"
   ]
  },
  {
   "cell_type": "code",
   "execution_count": 12,
   "metadata": {},
   "outputs": [
    {
     "name": "stdout",
     "output_type": "stream",
     "text": [
      "4096\n"
     ]
    }
   ],
   "source": [
    "def estimate_exponential(len1, len2, time1, c):\n",
    "    ratio = c ** (len2 - len1)\n",
    "    estimated_time = time1 * ratio\n",
    "    return estimated_time\n",
    "\n",
    "\n",
    "print(estimate_exponential(10, 20, 4, 2))"
   ]
  }
 ],
 "metadata": {
  "kernelspec": {
   "display_name": "venv",
   "language": "python",
   "name": "python3"
  },
  "language_info": {
   "codemirror_mode": {
    "name": "ipython",
    "version": 3
   },
   "file_extension": ".py",
   "mimetype": "text/x-python",
   "name": "python",
   "nbconvert_exporter": "python",
   "pygments_lexer": "ipython3",
   "version": "3.11.6"
  }
 },
 "nbformat": 4,
 "nbformat_minor": 2
}
