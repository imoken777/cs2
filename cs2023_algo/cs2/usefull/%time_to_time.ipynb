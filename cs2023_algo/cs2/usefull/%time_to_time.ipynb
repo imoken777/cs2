{
 "cells": [
  {
   "cell_type": "code",
   "execution_count": 2,
   "metadata": {},
   "outputs": [
    {
     "name": "stdout",
     "output_type": "stream",
     "text": [
      "[0.000234, 0.000261, 0.000233, 0.000222, 0.000172, 0.000171, 0.000189, 0.000181, 0.000189, 0.000178]\n"
     ]
    }
   ],
   "source": [
    "import re\n",
    "\n",
    "time_strings = [\n",
    "    \"234 ns ± 12.5 ns per loop (mean ± std. dev. of 7 runs, 1,000,000 loops each)\",\n",
    "    \"261 ns ± 37.7 ns per loop (mean ± std. dev. of 7 runs, 1,000,000 loops each)\",\n",
    "    \"233 ns ± 15.3 ns per loop (mean ± std. dev. of 7 runs, 1,000,000 loops each)\",\n",
    "    \"222 ns ± 10.1 ns per loop (mean ± std. dev. of 7 runs, 1,000,000 loops each)\",\n",
    "    \"172 ns ± 7.74 ns per loop (mean ± std. dev. of 7 runs, 1,000,000 loops each)\",\n",
    "    \"171 ns ± 1.39 ns per loop (mean ± std. dev. of 7 runs, 10,000,000 loops each)\",\n",
    "    \"189 ns ± 25.4 ns per loop (mean ± std. dev. of 7 runs, 10,000,000 loops each)\",\n",
    "    \"181 ns ± 7.03 ns per loop (mean ± std. dev. of 7 runs, 10,000,000 loops each)\",\n",
    "    \"189 ns ± 11.6 ns per loop (mean ± std. dev. of 7 runs, 10,000,000 loops each)\",\n",
    "    \"178 ns ± 4.27 ns per loop (mean ± std. dev. of 7 runs, 10,000,000 loops each)\",\n",
    "]\n",
    "\n",
    "execution_times_ms = []\n",
    "\n",
    "for time_string in time_strings:\n",
    "    # 実行時間（ナノ秒）を抽出\n",
    "    match = re.search(r\"(\\d+(\\.\\d+)?) ns\", time_string)\n",
    "    if match:\n",
    "        # ナノ秒からミリ秒に変換\n",
    "        time_ns = float(match.group(1))\n",
    "        time_ms = time_ns / 1_000_000\n",
    "        execution_times_ms.append(time_ms)\n",
    "\n",
    "print(execution_times_ms)"
   ]
  },
  {
   "cell_type": "code",
   "execution_count": 3,
   "metadata": {},
   "outputs": [
    {
     "name": "stdout",
     "output_type": "stream",
     "text": [
      "[234, 261, 233, 222, 172, 171, 189, 181, 189, 178]\n"
     ]
    }
   ],
   "source": [
    "times = [\n",
    "    \"234 ns ± 12.5 ns per loop (mean ± std. dev. of 7 runs, 1,000,000 loops each)\",\n",
    "    \"261 ns ± 37.7 ns per loop (mean ± std. dev. of 7 runs, 1,000,000 loops each)\",\n",
    "    \"233 ns ± 15.3 ns per loop (mean ± std. dev. of 7 runs, 1,000,000 loops each)\",\n",
    "    \"222 ns ± 10.1 ns per loop (mean ± std. dev. of 7 runs, 1,000,000 loops each)\",\n",
    "    \"172 ns ± 7.74 ns per loop (mean ± std. dev. of 7 runs, 1,000,000 loops each)\",\n",
    "    \"171 ns ± 1.39 ns per loop (mean ± std. dev. of 7 runs, 10,000,000 loops each)\",\n",
    "    \"189 ns ± 25.4 ns per loop (mean ± std. dev. of 7 runs, 10,000,000 loops each)\",\n",
    "    \"181 ns ± 7.03 ns per loop (mean ± std. dev. of 7 runs, 10,000,000 loops each)\",\n",
    "    \"189 ns ± 11.6 ns per loop (mean ± std. dev. of 7 runs, 10,000,000 loops each)\",\n",
    "    \"178 ns ± 4.27 ns per loop (mean ± std. dev. of 7 runs, 10,000,000 loops each)\",\n",
    "]\n",
    "\n",
    "mean_times = [int(time.split(\" \")[0]) for time in times]\n",
    "print(mean_times)"
   ]
  }
 ],
 "metadata": {
  "kernelspec": {
   "display_name": "venv",
   "language": "python",
   "name": "python3"
  },
  "language_info": {
   "codemirror_mode": {
    "name": "ipython",
    "version": 3
   },
   "file_extension": ".py",
   "mimetype": "text/x-python",
   "name": "python",
   "nbconvert_exporter": "python",
   "pygments_lexer": "ipython3",
   "version": "3.11.6"
  }
 },
 "nbformat": 4,
 "nbformat_minor": 2
}
