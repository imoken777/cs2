{
 "cells": [
  {
   "cell_type": "code",
   "execution_count": 1,
   "metadata": {},
   "outputs": [
    {
     "name": "stdout",
     "output_type": "stream",
     "text": [
      "計算量 O(nlogn) において 要素数 200, 2 ms のものの 計算量 O(nlogn), 要素数 40000 への変換結果: 800.0000000000001 ms\n"
     ]
    }
   ],
   "source": [
    "import math\n",
    "\n",
    "data = [\"O(n)\", \"O(logn)\", \"O(nlogn)\", \"O(n^2)\"]\n",
    "\n",
    "\n",
    "def change(num, n, c=None):\n",
    "    if num == 1:\n",
    "        return n\n",
    "    if num == 2:\n",
    "        return math.log2(n)\n",
    "    if num == 3:\n",
    "        return n * math.log2(n)\n",
    "    if num == 4:\n",
    "        return n**2\n",
    "    if num == 5:\n",
    "        return c**n\n",
    "\n",
    "\n",
    "def solve(a, b, leng, time, aleng, c1=0, c2=0):\n",
    "    ans = time * change(b, aleng, c2) / change(a, leng, c1)\n",
    "    sa = data[a - 1] if a != 5 else \"O({}^n)\".format(c1)\n",
    "    sb = data[b - 1] if b != 5 else \"O({}^n)\".format(c2)\n",
    "    print(\n",
    "        \"計算量 {} において 要素数 {}, {} ms のものの 計算量 {}, 要素数 {} への変換結果: {} ms\".format(\n",
    "            sa, leng, time, sb, aleng, ans\n",
    "        )\n",
    "    )\n",
    "\n",
    "\n",
    "# 要素数の設定\n",
    "length = 200\n",
    "\n",
    "# 元の時間の設定\n",
    "before_ms = 2\n",
    "\n",
    "# 変更後の要素数の設定\n",
    "after_length = 40000\n",
    "\n",
    "# 対応する数字を選択\n",
    "# O(n) = 1\n",
    "# O(logn) = 2\n",
    "# O(nlogn) = 3\n",
    "# O(n^2) = 4\n",
    "# O(C**n) = 5\n",
    "\n",
    "# 変換元の計算量、変換先の計算量を設定して実行\n",
    "\n",
    "# < 具体例 >\n",
    "# O(nlogn) → O(nlogn) に変換するとき\n",
    "# solve(3, 3, length, before_ms, after_length)\n",
    "\n",
    "# O(n) → O(n^2) に変換するとき\n",
    "# solve(3, 4, length, before_ms, after_length)\n",
    "\n",
    "# O(2^n) → O(3^n) に変換するとき\n",
    "# solve(5, 5, length, before_ms, after_length, 2, 3)\n",
    "\n",
    "solve(3, 3, length, before_ms, after_length)"
   ]
  }
 ],
 "metadata": {
  "kernelspec": {
   "display_name": "venv",
   "language": "python",
   "name": "python3"
  },
  "language_info": {
   "codemirror_mode": {
    "name": "ipython",
    "version": 3
   },
   "file_extension": ".py",
   "mimetype": "text/x-python",
   "name": "python",
   "nbconvert_exporter": "python",
   "pygments_lexer": "ipython3",
   "version": "3.11.6"
  }
 },
 "nbformat": 4,
 "nbformat_minor": 2
}
