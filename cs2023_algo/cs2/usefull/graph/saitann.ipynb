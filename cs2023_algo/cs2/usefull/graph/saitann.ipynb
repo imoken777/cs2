{
 "cells": [
  {
   "cell_type": "markdown",
   "metadata": {},
   "source": [
    "## 最短経路探索\n"
   ]
  },
  {
   "cell_type": "code",
   "execution_count": 11,
   "metadata": {},
   "outputs": [],
   "source": [
    "import matplotlib.pyplot as plt\n",
    "import networkx as nx"
   ]
  },
  {
   "cell_type": "code",
   "execution_count": 12,
   "metadata": {},
   "outputs": [],
   "source": [
    "G1 = nx.DiGraph()\n",
    "\n",
    "G1.add_node(\"1\")\n",
    "G1.add_node(\"2\")\n",
    "G1.add_node(\"3\")\n",
    "G1.add_node(\"4\")\n",
    "G1.add_node(\"5\")\n",
    "G1.add_node(\"S\")\n",
    "\n",
    "G1.add_edge(\"1\", \"2\", weight=1)\n",
    "G1.add_edge(\"1\", \"4\", weight=9)\n",
    "G1.add_edge(\"2\", \"3\", weight=2)\n",
    "G1.add_edge(\"2\", \"4\", weight=7)\n",
    "G1.add_edge(\"3\", \"5\", weight=3)\n",
    "G1.add_edge(\"5\", \"2\", weight=3)\n",
    "G1.add_edge(\"5\", \"4\", weight=1)\n",
    "G1.add_edge(\"S\", \"1\", weight=4)\n",
    "G1.add_edge(\"S\", \"2\", weight=8)\n",
    "G1.add_edge(\"S\", \"3\", weight=9)"
   ]
  },
  {
   "cell_type": "code",
   "execution_count": 13,
   "metadata": {},
   "outputs": [
    {
     "data": {
      "text/plain": [
       "['S', '1']"
      ]
     },
     "execution_count": 13,
     "metadata": {},
     "output_type": "execute_result"
    }
   ],
   "source": [
    "list(nx.shortest_path(G1, \"S\", \"1\", weight=\"weight\"))"
   ]
  },
  {
   "cell_type": "markdown",
   "metadata": {},
   "source": [
    "有向グラフにおいて、ダイクストラのアルゴリズムを用いてノード S から各ノードへの最短経路の重みを求めなさい。\n"
   ]
  },
  {
   "cell_type": "code",
   "execution_count": 14,
   "metadata": {},
   "outputs": [
    {
     "name": "stdout",
     "output_type": "stream",
     "text": [
      "10\n"
     ]
    }
   ],
   "source": [
    "shortest_path_weight = nx.dijkstra_path_length(G1, source=\"S\", target=\"5\")\n",
    "\n",
    "print(shortest_path_weight)"
   ]
  }
 ],
 "metadata": {
  "kernelspec": {
   "display_name": "venv",
   "language": "python",
   "name": "python3"
  },
  "language_info": {
   "codemirror_mode": {
    "name": "ipython",
    "version": 3
   },
   "file_extension": ".py",
   "mimetype": "text/x-python",
   "name": "python",
   "nbconvert_exporter": "python",
   "pygments_lexer": "ipython3",
   "version": "3.11.6"
  }
 },
 "nbformat": 4,
 "nbformat_minor": 2
}
