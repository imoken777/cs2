{
 "cells": [
  {
   "cell_type": "markdown",
   "metadata": {},
   "source": [
    "## 最短経路探索\n"
   ]
  },
  {
   "cell_type": "code",
   "execution_count": 12,
   "metadata": {},
   "outputs": [],
   "source": [
    "import matplotlib.pyplot as plt\n",
    "import networkx as nx"
   ]
  },
  {
   "cell_type": "code",
   "execution_count": 13,
   "metadata": {},
   "outputs": [],
   "source": [
    "G = nx.DiGraph()\n",
    "\n",
    "G.add_node(\"0\")\n",
    "G.add_node(\"1\")\n",
    "G.add_node(\"2\")\n",
    "G.add_node(\"3\")\n",
    "G.add_node(\"4\")\n",
    "G.add_node(\"5\")\n",
    "G.add_node(\"6\")\n",
    "\n",
    "G.add_edge(\"0\", \"1\", weight=2)\n",
    "G.add_edge(\"0\", \"2\", weight=8)\n",
    "G.add_edge(\"0\", \"3\", weight=4)\n",
    "G.add_edge(\"1\", \"4\", weight=3)\n",
    "G.add_edge(\"2\", \"4\", weight=2)\n",
    "G.add_edge(\"2\", \"5\", weight=3)\n",
    "G.add_edge(\"3\", \"5\", weight=8)\n",
    "G.add_edge(\"4\", \"6\", weight=9)\n",
    "G.add_edge(\"5\", \"6\", weight=3)"
   ]
  },
  {
   "cell_type": "code",
   "execution_count": 14,
   "metadata": {},
   "outputs": [
    {
     "data": {
      "text/plain": [
       "['0', '1']"
      ]
     },
     "execution_count": 14,
     "metadata": {},
     "output_type": "execute_result"
    }
   ],
   "source": [
    "list(nx.shortest_path(G, \"0\", \"1\", weight=\"weight\"))"
   ]
  },
  {
   "cell_type": "markdown",
   "metadata": {},
   "source": [
    "有向グラフにおいて、ダイクストラのアルゴリズムを用いてノード S から各ノードへの最短経路の重みを求めなさい。\n"
   ]
  },
  {
   "cell_type": "code",
   "execution_count": 16,
   "metadata": {},
   "outputs": [
    {
     "name": "stdout",
     "output_type": "stream",
     "text": [
      "[0, 2, 8, 4, 5, 11, 14]\n"
     ]
    }
   ],
   "source": [
    "result = []\n",
    "for i in range(7):\n",
    "    a = nx.dijkstra_path_length(G, source=\"0\", target=str(i))\n",
    "    result.append(a)\n",
    "\n",
    "\n",
    "\n",
    "print(result)"
   ]
  }
 ],
 "metadata": {
  "kernelspec": {
   "display_name": "venv",
   "language": "python",
   "name": "python3"
  },
  "language_info": {
   "codemirror_mode": {
    "name": "ipython",
    "version": 3
   },
   "file_extension": ".py",
   "mimetype": "text/x-python",
   "name": "python",
   "nbconvert_exporter": "python",
   "pygments_lexer": "ipython3",
   "version": "3.11.6"
  }
 },
 "nbformat": 4,
 "nbformat_minor": 2
}
