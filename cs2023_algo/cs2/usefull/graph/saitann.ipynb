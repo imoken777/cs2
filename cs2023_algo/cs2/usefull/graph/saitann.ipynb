{
 "cells": [
  {
   "cell_type": "markdown",
   "metadata": {},
   "source": [
    "## 最短経路探索\n"
   ]
  },
  {
   "cell_type": "code",
   "execution_count": 3,
   "metadata": {},
   "outputs": [],
   "source": [
    "import matplotlib.pyplot as plt\n",
    "import networkx as nx"
   ]
  },
  {
   "cell_type": "code",
   "execution_count": 4,
   "metadata": {},
   "outputs": [],
   "source": [
    "G1 = nx.DiGraph()\n",
    "\n",
    "G1.add_node(\"A\")\n",
    "G1.add_node(\"B\")\n",
    "G1.add_node(\"C\")\n",
    "G1.add_node(\"D\")\n",
    "G1.add_node(\"E\")\n",
    "G1.add_node(\"F\")\n",
    "\n",
    "G1.add_edge(\"A\", \"B\", weight=10)\n",
    "G1.add_edge(\"A\", \"C\", weight=2)\n",
    "G1.add_edge(\"A\", \"D\", weight=3)\n",
    "G1.add_edge(\"B\", \"A\", weight=1)\n",
    "G1.add_edge(\"C\", \"F\", weight=2)\n",
    "G1.add_edge(\"D\", \"E\", weight=5)\n",
    "G1.add_edge(\"E\", \"B\", weight=3)\n",
    "G1.add_edge(\"E\", \"D\", weight=2)\n",
    "G1.add_edge(\"F\", \"E\", weight=1)"
   ]
  },
  {
   "cell_type": "code",
   "execution_count": 5,
   "metadata": {},
   "outputs": [
    {
     "data": {
      "text/plain": [
       "['A', 'C', 'F', 'E', 'B']"
      ]
     },
     "execution_count": 5,
     "metadata": {},
     "output_type": "execute_result"
    }
   ],
   "source": [
    "list(nx.shortest_path(G1, \"A\", \"B\", weight=\"weight\"))"
   ]
  }
 ],
 "metadata": {
  "kernelspec": {
   "display_name": "venv",
   "language": "python",
   "name": "python3"
  },
  "language_info": {
   "codemirror_mode": {
    "name": "ipython",
    "version": 3
   },
   "file_extension": ".py",
   "mimetype": "text/x-python",
   "name": "python",
   "nbconvert_exporter": "python",
   "pygments_lexer": "ipython3",
   "version": "3.11.6"
  }
 },
 "nbformat": 4,
 "nbformat_minor": 2
}
