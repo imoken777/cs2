{
 "cells": [
  {
   "cell_type": "markdown",
   "metadata": {},
   "source": [
    "## PageRank\n"
   ]
  },
  {
   "cell_type": "code",
   "execution_count": 3,
   "metadata": {},
   "outputs": [],
   "source": [
    "import matplotlib.pyplot as plt\n",
    "import networkx as nx"
   ]
  },
  {
   "cell_type": "code",
   "execution_count": 4,
   "metadata": {},
   "outputs": [
    {
     "data": {
      "text/plain": [
       "{'A': 0.400000254313151, 'B': 0.1999994913736979, 'C': 0.400000254313151}"
      ]
     },
     "execution_count": 4,
     "metadata": {},
     "output_type": "execute_result"
    }
   ],
   "source": [
    "G1 = nx.DiGraph()\n",
    "\n",
    "G1.add_node(\"A\")\n",
    "G1.add_node(\"B\")\n",
    "G1.add_node(\"C\")\n",
    "\n",
    "G1.add_edge(\"A\", \"B\")\n",
    "G1.add_edge(\"B\", \"C\")\n",
    "G1.add_edge(\"C\", \"A\")\n",
    "G1.add_edge(\"A\", \"C\")\n",
    "\n",
    "nx.pagerank(G1, alpha=1.0)"
   ]
  }
 ],
 "metadata": {
  "kernelspec": {
   "display_name": "venv",
   "language": "python",
   "name": "python3"
  },
  "language_info": {
   "codemirror_mode": {
    "name": "ipython",
    "version": 3
   },
   "file_extension": ".py",
   "mimetype": "text/x-python",
   "name": "python",
   "nbconvert_exporter": "python",
   "pygments_lexer": "ipython3",
   "version": "3.11.6"
  }
 },
 "nbformat": 4,
 "nbformat_minor": 2
}
