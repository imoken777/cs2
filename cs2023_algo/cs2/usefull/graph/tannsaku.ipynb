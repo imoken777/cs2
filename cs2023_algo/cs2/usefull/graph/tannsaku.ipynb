{
 "cells": [
  {
   "cell_type": "markdown",
   "metadata": {},
   "source": [
    "## 深さ優先探索、幅優先探索\n"
   ]
  },
  {
   "cell_type": "code",
   "execution_count": 15,
   "metadata": {},
   "outputs": [],
   "source": [
    "import matplotlib.pyplot as plt\n",
    "import networkx as nx"
   ]
  },
  {
   "cell_type": "code",
   "execution_count": 16,
   "metadata": {},
   "outputs": [],
   "source": [
    "G1 = nx.DiGraph()\n",
    "\n",
    "G1.add_node(\"A\")\n",
    "G1.add_node(\"B\")\n",
    "G1.add_node(\"C\")\n",
    "G1.add_node(\"D\")\n",
    "G1.add_node(\"E\")\n",
    "G1.add_node(\"F\")\n",
    "\n",
    "G1.add_edge(\"A\", \"B\")\n",
    "G1.add_edge(\"A\", \"C\")\n",
    "G1.add_edge(\"A\", \"D\")\n",
    "G1.add_edge(\"B\", \"A\")\n",
    "G1.add_edge(\"C\", \"F\")\n",
    "G1.add_edge(\"D\", \"E\")\n",
    "G1.add_edge(\"E\", \"B\")\n",
    "G1.add_edge(\"E\", \"D\")\n",
    "G1.add_edge(\"F\", \"E\")"
   ]
  },
  {
   "cell_type": "code",
   "execution_count": 17,
   "metadata": {},
   "outputs": [
    {
     "data": {
      "text/plain": [
       "[('A', 'B'), ('A', 'C'), ('C', 'F'), ('F', 'E'), ('E', 'D')]"
      ]
     },
     "execution_count": 17,
     "metadata": {},
     "output_type": "execute_result"
    }
   ],
   "source": [
    "## 深さ優先探索\n",
    "list(nx.dfs_edges(G1, \"A\"))"
   ]
  },
  {
   "cell_type": "code",
   "execution_count": 18,
   "metadata": {},
   "outputs": [
    {
     "data": {
      "text/plain": [
       "[('A', 'B'), ('A', 'C'), ('A', 'D'), ('C', 'F'), ('D', 'E')]"
      ]
     },
     "execution_count": 18,
     "metadata": {},
     "output_type": "execute_result"
    }
   ],
   "source": [
    "## 幅優先探索\n",
    "list(nx.bfs_edges(G1, \"A\"))"
   ]
  }
 ],
 "metadata": {
  "kernelspec": {
   "display_name": "venv",
   "language": "python",
   "name": "python3"
  },
  "language_info": {
   "codemirror_mode": {
    "name": "ipython",
    "version": 3
   },
   "file_extension": ".py",
   "mimetype": "text/x-python",
   "name": "python",
   "nbconvert_exporter": "python",
   "pygments_lexer": "ipython3",
   "version": "3.11.6"
  }
 },
 "nbformat": 4,
 "nbformat_minor": 2
}
