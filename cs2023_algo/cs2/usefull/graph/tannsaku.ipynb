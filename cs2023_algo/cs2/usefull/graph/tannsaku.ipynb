{
 "cells": [
  {
   "cell_type": "markdown",
   "metadata": {},
   "source": [
    "## 深さ優先探索、幅優先探索\n"
   ]
  },
  {
   "cell_type": "code",
   "execution_count": 7,
   "metadata": {},
   "outputs": [],
   "source": [
    "import matplotlib.pyplot as plt\n",
    "import networkx as nx"
   ]
  },
  {
   "cell_type": "code",
   "execution_count": 8,
   "metadata": {},
   "outputs": [],
   "source": [
    "G1 = nx.DiGraph()\n",
    "\n",
    "G1.add_node(\"A\")\n",
    "G1.add_node(\"B\")\n",
    "G1.add_node(\"C\")\n",
    "G1.add_node(\"D\")\n",
    "G1.add_node(\"E\")\n",
    "G1.add_node(\"F\")\n",
    "\n",
    "G1.add_edge(\"A\", \"B\")\n",
    "G1.add_edge(\"A\", \"C\")\n",
    "G1.add_edge(\"A\", \"D\")\n",
    "G1.add_edge(\"B\", \"C\")\n",
    "G1.add_edge(\"B\", \"F\")\n",
    "G1.add_edge(\"C\", \"F\")\n",
    "G1.add_edge(\"D\", \"C\")\n",
    "G1.add_edge(\"E\", \"C\")\n",
    "G1.add_edge(\"E\", \"D\")\n",
    "G1.add_edge(\"F\", \"E\")"
   ]
  },
  {
   "cell_type": "code",
   "execution_count": 9,
   "metadata": {},
   "outputs": [
    {
     "name": "stdout",
     "output_type": "stream",
     "text": [
      "['A', 'B', 'C', 'F', 'E', 'D']\n"
     ]
    }
   ],
   "source": [
    "##深さ優先探索\n",
    "dfs_edges = list(nx.dfs_edges(G1, \"A\"))\n",
    "\n",
    "dfs_nodes = [dfs_edges[0][0]]\n",
    "\n",
    "for edge in dfs_edges:\n",
    "    dfs_nodes.append(edge[1])\n",
    "\n",
    "print(dfs_nodes)"
   ]
  },
  {
   "cell_type": "code",
   "execution_count": 10,
   "metadata": {},
   "outputs": [
    {
     "name": "stdout",
     "output_type": "stream",
     "text": [
      "['A', 'B', 'C', 'D', 'F', 'E']\n"
     ]
    }
   ],
   "source": [
    "## 幅優先探索\n",
    "bfs_edges = list(nx.bfs_edges(G1, \"A\"))\n",
    "\n",
    "bfs_nodes = [bfs_edges[0][0]]\n",
    "\n",
    "for edge in bfs_edges:\n",
    "    bfs_nodes.append(edge[1])\n",
    "\n",
    "print(bfs_nodes)"
   ]
  }
 ],
 "metadata": {
  "kernelspec": {
   "display_name": "venv",
   "language": "python",
   "name": "python3"
  },
  "language_info": {
   "codemirror_mode": {
    "name": "ipython",
    "version": 3
   },
   "file_extension": ".py",
   "mimetype": "text/x-python",
   "name": "python",
   "nbconvert_exporter": "python",
   "pygments_lexer": "ipython3",
   "version": "3.11.6"
  }
 },
 "nbformat": 4,
 "nbformat_minor": 2
}
