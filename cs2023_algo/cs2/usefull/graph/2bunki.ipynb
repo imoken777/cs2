{
 "cells": [
  {
   "cell_type": "code",
   "execution_count": 5,
   "metadata": {},
   "outputs": [],
   "source": [
    "class Node:\n",
    "    def __init__(self, value):\n",
    "        self.value = value\n",
    "        self.left = None\n",
    "        self.right = None\n",
    "\n",
    "    def __str__(self):\n",
    "        return str(self.value)"
   ]
  },
  {
   "cell_type": "code",
   "execution_count": 6,
   "metadata": {},
   "outputs": [],
   "source": [
    "top = Node(\"A\")\n",
    "node_l = Node(\"B\")\n",
    "node_ll = Node(\"C\")\n",
    "top.left = node_l\n",
    "node_l.left = node_ll\n",
    "\n",
    "node_r = Node(\"D\")\n",
    "top.right = node_r\n",
    "\n",
    "node_llr = Node(\"E\")\n",
    "node_lll = Node(\"F\")\n",
    "node_ll.left = node_lll\n",
    "node_ll.right = node_llr\n",
    "\n",
    "node_lr = Node(\"G\")\n",
    "node_l.right = node_lr\n",
    "\n",
    "node_rl = Node(\"H\")\n",
    "node_rr = Node(\"I\")\n",
    "node_r.left = node_rl\n",
    "node_r.right = node_rr\n",
    "\n",
    "node_rrl = Node(\"J\")\n",
    "top.right.right.left = node_rrl"
   ]
  },
  {
   "cell_type": "code",
   "execution_count": 7,
   "metadata": {},
   "outputs": [
    {
     "name": "stdout",
     "output_type": "stream",
     "text": [
      "3\n"
     ]
    }
   ],
   "source": [
    "##深さ\n",
    "\n",
    "\n",
    "def depth(top, x):\n",
    "    if top.value == x:\n",
    "        return 0\n",
    "    if top.left != None:\n",
    "        d = depth(top.left, x)\n",
    "        if d >= 0:\n",
    "            return d + 1\n",
    "    if top.right != None:\n",
    "        d = depth(top.right, x)\n",
    "        if d >= 0:\n",
    "            return d + 1\n",
    "    return -1\n",
    "\n",
    "\n",
    "print(depth(top, \"E\"))"
   ]
  },
  {
   "cell_type": "code",
   "execution_count": 8,
   "metadata": {},
   "outputs": [
    {
     "name": "stdout",
     "output_type": "stream",
     "text": [
      "3\n"
     ]
    }
   ],
   "source": [
    "##木の高さ\n",
    "\n",
    "\n",
    "def height(top):\n",
    "    if top.left == None and top.right == None:\n",
    "        return 0\n",
    "    if top.left != None:\n",
    "        h = height(top.left)\n",
    "    if top.right != None:\n",
    "        h = height(top.right)\n",
    "    return h + 1\n",
    "\n",
    "\n",
    "print(height(top))"
   ]
  }
 ],
 "metadata": {
  "kernelspec": {
   "display_name": "venv",
   "language": "python",
   "name": "python3"
  },
  "language_info": {
   "codemirror_mode": {
    "name": "ipython",
    "version": 3
   },
   "file_extension": ".py",
   "mimetype": "text/x-python",
   "name": "python",
   "nbconvert_exporter": "python",
   "pygments_lexer": "ipython3",
   "version": "3.11.6"
  }
 },
 "nbformat": 4,
 "nbformat_minor": 2
}
