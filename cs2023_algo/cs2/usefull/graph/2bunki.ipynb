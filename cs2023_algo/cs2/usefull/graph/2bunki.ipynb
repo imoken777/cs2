{
 "cells": [
  {
   "cell_type": "code",
   "execution_count": 23,
   "metadata": {},
   "outputs": [],
   "source": [
    "class Node:\n",
    "    def __init__(self, value):\n",
    "        self.value = value\n",
    "        self.left = None\n",
    "        self.right = None\n",
    "\n",
    "    def __str__(self):\n",
    "        return str(self.value)"
   ]
  },
  {
   "cell_type": "code",
   "execution_count": 24,
   "metadata": {},
   "outputs": [],
   "source": [
    "top = Node(\"A\")\n",
    "node_l = Node(\"B\")\n",
    "node_ll = Node(\"C\")\n",
    "top.left = node_l\n",
    "node_l.left = node_ll\n",
    "\n",
    "node_r = Node(\"D\")\n",
    "top.right = node_r\n",
    "\n",
    "node_llr = Node(\"E\")\n",
    "node_lll = Node(\"F\")\n",
    "node_ll.left = node_lll\n",
    "node_ll.right = node_llr\n",
    "\n",
    "node_lr = Node(\"G\")\n",
    "node_l.right = node_lr\n",
    "\n",
    "node_rl = Node(\"H\")\n",
    "node_rr = Node(\"I\")\n",
    "node_r.left = node_rl\n",
    "node_r.right = node_rr\n",
    "\n",
    "node_rrl = Node(\"J\")\n",
    "top.right.right.left = node_rrl"
   ]
  },
  {
   "cell_type": "code",
   "execution_count": 25,
   "metadata": {},
   "outputs": [
    {
     "name": "stdout",
     "output_type": "stream",
     "text": [
      "3\n"
     ]
    }
   ],
   "source": [
    "##深さ\n",
    "\n",
    "\n",
    "def depth(top, x):\n",
    "    if top.value == x:\n",
    "        return 0\n",
    "    if top.left != None:\n",
    "        d = depth(top.left, x)\n",
    "        if d >= 0:\n",
    "            return d + 1\n",
    "    if top.right != None:\n",
    "        d = depth(top.right, x)\n",
    "        if d >= 0:\n",
    "            return d + 1\n",
    "    return -1\n",
    "\n",
    "\n",
    "print(depth(top, \"E\"))"
   ]
  },
  {
   "cell_type": "code",
   "execution_count": 26,
   "metadata": {},
   "outputs": [
    {
     "name": "stdout",
     "output_type": "stream",
     "text": [
      "1\n"
     ]
    }
   ],
   "source": [
    "##高さ\n",
    "\n",
    "\n",
    "def height(node):\n",
    "    if node.left != None:\n",
    "        left_height = height(node.left) + 1\n",
    "    else:\n",
    "        left_height = 0\n",
    "    if node.right != None:\n",
    "        right_height = height(node.right) + 1\n",
    "    else:\n",
    "        right_height = 0\n",
    "    return max(left_height, right_height)\n",
    "\n",
    "\n",
    "print(height(node_ll))"
   ]
  },
  {
   "cell_type": "code",
   "execution_count": 27,
   "metadata": {},
   "outputs": [],
   "source": [
    "def print_preorder(node):\n",
    "    print(node.value, end=\", \")\n",
    "\n",
    "    if node.left != None:\n",
    "        print_preorder(node.left)\n",
    "\n",
    "    if node.right != None:\n",
    "        print_preorder(node.right)\n",
    "\n",
    "\n",
    "def print_inorder(node):\n",
    "    if node.left != None:\n",
    "        print_inorder(node.left)\n",
    "\n",
    "    print(node.value, end=\", \")\n",
    "\n",
    "    if node.right != None:\n",
    "        print_inorder(node.right)\n",
    "\n",
    "\n",
    "def print_postorder(node):\n",
    "    if node.left != None:\n",
    "        print_postorder(node.left)\n",
    "\n",
    "    if node.right != None:\n",
    "        print_postorder(node.right)\n",
    "\n",
    "    print(node.value, end=\", \")"
   ]
  },
  {
   "cell_type": "code",
   "execution_count": 28,
   "metadata": {},
   "outputs": [
    {
     "name": "stdout",
     "output_type": "stream",
     "text": [
      "A, B, C, F, E, G, D, H, I, J, "
     ]
    }
   ],
   "source": [
    "##行きがけ順\n",
    "print_preorder(top)"
   ]
  },
  {
   "cell_type": "code",
   "execution_count": 29,
   "metadata": {},
   "outputs": [
    {
     "name": "stdout",
     "output_type": "stream",
     "text": [
      "F, C, E, B, G, A, H, D, J, I, "
     ]
    }
   ],
   "source": [
    "##通りがけ順\n",
    "print_inorder(top)"
   ]
  },
  {
   "cell_type": "code",
   "execution_count": 30,
   "metadata": {},
   "outputs": [
    {
     "name": "stdout",
     "output_type": "stream",
     "text": [
      "F, E, C, G, B, H, J, I, D, A, "
     ]
    }
   ],
   "source": [
    "##帰りがけ順\n",
    "print_postorder(top)"
   ]
  }
 ],
 "metadata": {
  "kernelspec": {
   "display_name": "venv",
   "language": "python",
   "name": "python3"
  },
  "language_info": {
   "codemirror_mode": {
    "name": "ipython",
    "version": 3
   },
   "file_extension": ".py",
   "mimetype": "text/x-python",
   "name": "python",
   "nbconvert_exporter": "python",
   "pygments_lexer": "ipython3",
   "version": "3.11.6"
  }
 },
 "nbformat": 4,
 "nbformat_minor": 2
}
