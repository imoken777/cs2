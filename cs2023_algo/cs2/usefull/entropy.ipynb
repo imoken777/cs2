{
 "cells": [
  {
   "cell_type": "code",
   "execution_count": 2,
   "metadata": {},
   "outputs": [
    {
     "name": "stdout",
     "output_type": "stream",
     "text": [
      "1.0\n",
      "2.3709505944546687\n"
     ]
    }
   ],
   "source": [
    "import math\n",
    "\n",
    "\n",
    "def entropy(lst):\n",
    "    return -sum(x * math.log2(x) for x in lst)\n",
    "\n",
    "\n",
    "def check(lst):\n",
    "    result = 0\n",
    "    for i in lst:\n",
    "        result += i\n",
    "    return result\n",
    "\n",
    "\n",
    "lst = [1 / 10, 1 / 10, 1 / 10, 1 / 10, 3 / 10, 3 / 10]\n",
    "print(check(lst))\n",
    "print(entropy(lst))"
   ]
  }
 ],
 "metadata": {
  "kernelspec": {
   "display_name": "venv",
   "language": "python",
   "name": "python3"
  },
  "language_info": {
   "codemirror_mode": {
    "name": "ipython",
    "version": 3
   },
   "file_extension": ".py",
   "mimetype": "text/x-python",
   "name": "python",
   "nbconvert_exporter": "python",
   "pygments_lexer": "ipython3",
   "version": "3.11.6"
  }
 },
 "nbformat": 4,
 "nbformat_minor": 2
}
