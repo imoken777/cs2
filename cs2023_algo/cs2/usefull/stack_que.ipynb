{
 "cells": [
  {
   "cell_type": "code",
   "execution_count": 1,
   "metadata": {},
   "outputs": [
    {
     "name": "stdout",
     "output_type": "stream",
     "text": [
      "最後の操作で取り出された値: 2\n",
      "最後の操作の後、スタック内の要素数: 3\n"
     ]
    }
   ],
   "source": [
    "stack = []\n",
    "\n",
    "# 操作の実行\n",
    "stack.append(3)  # Push 3\n",
    "stack.append(5)  # Push 5\n",
    "stack.append(1)  # Push 1\n",
    "stack.pop()  # Pop (1を取り出す)\n",
    "stack.pop()  # Pop (5を取り出す)\n",
    "stack.append(8)  # Push 8\n",
    "stack.append(6)  # Push 6\n",
    "stack.append(2)  # Push 2\n",
    "stack.append(7)  # Push 7\n",
    "stack.pop()  # Pop (7を取り出す)\n",
    "popped_item = stack.pop()  # Pop (2を取り出す)\n",
    "\n",
    "# 結果の出力\n",
    "print(\"最後の操作で取り出された値:\", popped_item)\n",
    "print(\"最後の操作の後、スタック内の要素数:\", len(stack))"
   ]
  },
  {
   "cell_type": "code",
   "execution_count": 2,
   "metadata": {},
   "outputs": [
    {
     "name": "stdout",
     "output_type": "stream",
     "text": [
      "最後の操作で取り出された値: 7\n",
      "最後の操作の後、キュー内の要素数: 1\n"
     ]
    }
   ],
   "source": [
    "from collections import deque\n",
    "\n",
    "# 初期状態のキュー\n",
    "queue = deque([1, 2])\n",
    "\n",
    "# 操作の実行\n",
    "queue.append(5)  # Enqueue 5\n",
    "queue.popleft()  # Dequeue (1を取り出す)\n",
    "queue.append(8)  # Enqueue 8\n",
    "queue.popleft()  # Dequeue (2を取り出す)\n",
    "queue.append(7)  # Enqueue 7\n",
    "queue.append(3)  # Enqueue 3\n",
    "queue.popleft()  # Dequeue (5を取り出す)\n",
    "queue.popleft()  # Dequeue (8を取り出す)\n",
    "dequeued_item = queue.popleft()  # Dequeue (7を取り出す)\n",
    "\n",
    "# 結果の出力\n",
    "print(\"最後の操作で取り出された値:\", dequeued_item)\n",
    "print(\"最後の操作の後、キュー内の要素数:\", len(queue))"
   ]
  }
 ],
 "metadata": {
  "kernelspec": {
   "display_name": "venv",
   "language": "python",
   "name": "python3"
  },
  "language_info": {
   "codemirror_mode": {
    "name": "ipython",
    "version": 3
   },
   "file_extension": ".py",
   "mimetype": "text/x-python",
   "name": "python",
   "nbconvert_exporter": "python",
   "pygments_lexer": "ipython3",
   "version": "3.11.6"
  }
 },
 "nbformat": 4,
 "nbformat_minor": 2
}
