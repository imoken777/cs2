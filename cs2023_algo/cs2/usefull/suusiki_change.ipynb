{
 "cells": [
  {
   "cell_type": "markdown",
   "metadata": {},
   "source": [
    "## 前置記法から中置記法、後置記法へ変換する関数\n"
   ]
  },
  {
   "cell_type": "code",
   "execution_count": 19,
   "metadata": {},
   "outputs": [
    {
     "name": "stdout",
     "output_type": "stream",
     "text": [
      "前置記法: * - * x x * 2 x 1\n",
      "中置記法: (((x * x) - (2 * x)) * 1)\n",
      "後置記法: x x * 2 x * - 1 *\n"
     ]
    }
   ],
   "source": [
    "def prefix_to_infix(expression):\n",
    "    stack = []\n",
    "    operators = set([\"+\", \"-\", \"*\", \"/\"])\n",
    "\n",
    "    for char in reversed(expression.split()):\n",
    "        if char not in operators:\n",
    "            stack.append(char)\n",
    "        else:\n",
    "            operand1 = stack.pop()\n",
    "            operand2 = stack.pop()\n",
    "            stack.append(f\"({operand1} {char} {operand2})\")\n",
    "\n",
    "    return stack[0]\n",
    "\n",
    "\n",
    "def prefix_to_postfix(expression):\n",
    "    stack = []\n",
    "    operators = set([\"+\", \"-\", \"*\", \"/\"])\n",
    "\n",
    "    for char in reversed(expression.split()):\n",
    "        if char not in operators:\n",
    "            stack.append(char)\n",
    "        else:\n",
    "            operand1 = stack.pop()\n",
    "            operand2 = stack.pop()\n",
    "            stack.append(f\"{operand1} {operand2} {char}\")\n",
    "\n",
    "    return stack[0]\n",
    "\n",
    "\n",
    "# 前置記法の数式\n",
    "prefix_expr = \"* - * x x * 2 x 1\"\n",
    "print(f\"前置記法: {prefix_expr}\")\n",
    "\n",
    "# 中置記法に変換\n",
    "infix_expr = prefix_to_infix(prefix_expr)\n",
    "print(f\"中置記法: {infix_expr}\")\n",
    "\n",
    "# 後置記法に変換\n",
    "postfix_expr = prefix_to_postfix(prefix_expr)\n",
    "print(f\"後置記法: {postfix_expr}\")"
   ]
  },
  {
   "cell_type": "markdown",
   "metadata": {},
   "source": [
    "## 中置記法の数式を前置記法と後置記法に変換する関数\n"
   ]
  },
  {
   "cell_type": "code",
   "execution_count": 20,
   "metadata": {},
   "outputs": [
    {
     "name": "stdout",
     "output_type": "stream",
     "text": [
      "中置記法: x * x - 2 * x + 1\n",
      "前置記法: + 1 - * x 2 * x x\n",
      "後置記法: x x * 2 x * - 1 +\n"
     ]
    }
   ],
   "source": [
    "def infix_to_prefix(infix_expr):\n",
    "    def precedence(op):\n",
    "        return {\"+\": 1, \"-\": 1, \"*\": 2, \"/\": 2}.get(op, 0)\n",
    "\n",
    "    output = []\n",
    "    operators = []\n",
    "\n",
    "    for symbol in infix_expr.replace(\" \", \"\"):\n",
    "        if symbol.isalnum():\n",
    "            output.append(symbol)\n",
    "        elif symbol in \"+-*/\":\n",
    "            while operators and precedence(operators[-1]) >= precedence(symbol):\n",
    "                output.append(operators.pop())\n",
    "            operators.append(symbol)\n",
    "        elif symbol == \"(\":\n",
    "            operators.append(symbol)\n",
    "        elif symbol == \")\":\n",
    "            while operators and operators[-1] != \"(\":\n",
    "                output.append(operators.pop())\n",
    "            operators.pop()\n",
    "\n",
    "    while operators:\n",
    "        output.append(operators.pop())\n",
    "\n",
    "    return list(reversed(output))\n",
    "\n",
    "\n",
    "def infix_to_postfix(infix_expr):\n",
    "    def precedence(op):\n",
    "        return {\"+\": 1, \"-\": 1, \"*\": 2, \"/\": 2}.get(op, 0)\n",
    "\n",
    "    output = []\n",
    "    operators = []\n",
    "\n",
    "    for symbol in infix_expr.replace(\" \", \"\"):\n",
    "        if symbol.isalnum():\n",
    "            output.append(symbol)\n",
    "        elif symbol in \"+-*/\":\n",
    "            while operators and precedence(operators[-1]) >= precedence(symbol):\n",
    "                output.append(operators.pop())\n",
    "            operators.append(symbol)\n",
    "        elif symbol == \"(\":\n",
    "            operators.append(symbol)\n",
    "        elif symbol == \")\":\n",
    "            while operators and operators[-1] != \"(\":\n",
    "                output.append(operators.pop())\n",
    "            operators.pop()\n",
    "\n",
    "    while operators:\n",
    "        output.append(operators.pop())\n",
    "\n",
    "    return output\n",
    "\n",
    "\n",
    "# Example usage\n",
    "infix_expr = \"x * x - 2 * x + 1\"\n",
    "prefix_expr = infix_to_prefix(infix_expr)\n",
    "postfix_expr = infix_to_postfix(infix_expr)\n",
    "\n",
    "print(\"中置記法:\", infix_expr)\n",
    "print(\"前置記法:\", \" \".join(prefix_expr))\n",
    "print(\"後置記法:\", \" \".join(postfix_expr))"
   ]
  },
  {
   "cell_type": "code",
   "execution_count": 21,
   "metadata": {},
   "outputs": [
    {
     "name": "stdout",
     "output_type": "stream",
     "text": [
      "後置記法: x x * 2 x * - 1 +\n",
      "前置記法: + - * x x * 2 x 1\n",
      "中置記法: (((x * x) - (2 * x)) + 1)\n"
     ]
    }
   ],
   "source": [
    "def postfix_to_prefix(postfix_expr):\n",
    "    stack = []\n",
    "    for symbol in postfix_expr.split():\n",
    "        if symbol.isalnum():\n",
    "            stack.append(symbol)\n",
    "        else:\n",
    "            operand2 = stack.pop()\n",
    "            operand1 = stack.pop()\n",
    "            stack.append(f\"{symbol} {operand1} {operand2}\")\n",
    "    return stack[0]\n",
    "\n",
    "\n",
    "def postfix_to_infix(postfix_expr):\n",
    "    stack = []\n",
    "    for symbol in postfix_expr.split():\n",
    "        if symbol.isalnum():\n",
    "            stack.append(symbol)\n",
    "        else:\n",
    "            operand2 = stack.pop()\n",
    "            operand1 = stack.pop()\n",
    "            stack.append(f\"({operand1} {symbol} {operand2})\")\n",
    "    return stack[0]\n",
    "\n",
    "\n",
    "# Example usage\n",
    "postfix_expr = \"x x * 2 x * - 1 +\"\n",
    "prefix_expr = postfix_to_prefix(postfix_expr)\n",
    "infix_expr = postfix_to_infix(postfix_expr)\n",
    "\n",
    "print(\"後置記法:\", postfix_expr)\n",
    "print(\"前置記法:\", prefix_expr)\n",
    "print(\"中置記法:\", infix_expr)"
   ]
  }
 ],
 "metadata": {
  "kernelspec": {
   "display_name": "venv",
   "language": "python",
   "name": "python3"
  },
  "language_info": {
   "codemirror_mode": {
    "name": "ipython",
    "version": 3
   },
   "file_extension": ".py",
   "mimetype": "text/x-python",
   "name": "python",
   "nbconvert_exporter": "python",
   "pygments_lexer": "ipython3",
   "version": "3.11.6"
  }
 },
 "nbformat": 4,
 "nbformat_minor": 2
}
