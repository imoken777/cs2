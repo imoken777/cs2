{
 "cells": [
  {
   "cell_type": "markdown",
   "metadata": {},
   "source": [
    "マージソートで、以下のリストを昇順にソートすることを考える。この時、3 回目のマージ完了後のリストの中身を答えよ。 ただし、前半のソート完了後、後半のソートに取り掛かるものとする。\n"
   ]
  },
  {
   "cell_type": "code",
   "execution_count": 2,
   "metadata": {},
   "outputs": [
    {
     "name": "stdout",
     "output_type": "stream",
     "text": [
      "1回目のステップ後のリスト: [3, 8, 2, 1, 7, 4, 6, 5]\n",
      "2回目のステップ後のリスト: [3, 8, 1, 2, 7, 4, 6, 5]\n",
      "3回目のステップ後のリスト: [1, 2, 3, 8, 7, 4, 6, 5]\n",
      "4回目のステップ後のリスト: [1, 2, 3, 8, 4, 7, 6, 5]\n",
      "5回目のステップ後のリスト: [1, 2, 3, 8, 4, 7, 5, 6]\n",
      "6回目のステップ後のリスト: [1, 2, 3, 8, 4, 5, 6, 7]\n",
      "7回目のステップ後のリスト: [1, 2, 3, 4, 5, 6, 7, 8]\n",
      "マージソート後のリスト: [1, 2, 3, 4, 5, 6, 7, 8]\n"
     ]
    }
   ],
   "source": [
    "def merge_sort(arr, start, end, history):\n",
    "    if end - start > 1:\n",
    "        mid = (start + end) // 2\n",
    "        merge_sort(arr, start, mid, history)\n",
    "        merge_sort(arr, mid, end, history)\n",
    "\n",
    "        merged = []\n",
    "        left = arr[start:mid]\n",
    "        right = arr[mid:end]\n",
    "        while left and right:\n",
    "            if left[0] < right[0]:\n",
    "                merged.append(left.pop(0))\n",
    "            else:\n",
    "                merged.append(right.pop(0))\n",
    "\n",
    "        merged.extend(left)\n",
    "        merged.extend(right)\n",
    "        arr[start:end] = merged\n",
    "\n",
    "        # 各ステップでの全体リストの状態を記録\n",
    "        history.append(arr.copy())\n",
    "\n",
    "\n",
    "# リスト\n",
    "arr = [3, 8, 2, 1, 7, 4, 6, 5]\n",
    "\n",
    "# マージソートの途中経過を記録するリスト\n",
    "history = []\n",
    "\n",
    "# マージソートの実行\n",
    "merge_sort(arr, 0, len(arr), history)\n",
    "\n",
    "# 途中経過の出力\n",
    "for i, step in enumerate(history):\n",
    "    print(f\"{i+1}回目のステップ後のリスト: {step}\")\n",
    "\n",
    "# 最終結果の出力\n",
    "print(\"マージソート後のリスト:\", arr)"
   ]
  }
 ],
 "metadata": {
  "kernelspec": {
   "display_name": "venv",
   "language": "python",
   "name": "python3"
  },
  "language_info": {
   "codemirror_mode": {
    "name": "ipython",
    "version": 3
   },
   "file_extension": ".py",
   "mimetype": "text/x-python",
   "name": "python",
   "nbconvert_exporter": "python",
   "pygments_lexer": "ipython3",
   "version": "3.11.6"
  }
 },
 "nbformat": 4,
 "nbformat_minor": 2
}
