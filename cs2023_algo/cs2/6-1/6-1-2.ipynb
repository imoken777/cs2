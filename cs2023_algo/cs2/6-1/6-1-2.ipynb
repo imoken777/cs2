{
 "cells": [
  {
   "cell_type": "code",
   "execution_count": 5,
   "metadata": {},
   "outputs": [],
   "source": [
    "class Node:\n",
    "    def __init__(self, value):\n",
    "        self.value = value\n",
    "        self.left = None\n",
    "        self.right = None\n",
    "\n",
    "    def __str__(self):\n",
    "        return str(self.value)"
   ]
  },
  {
   "cell_type": "code",
   "execution_count": 6,
   "metadata": {},
   "outputs": [],
   "source": [
    "top = Node(\"A\")\n",
    "node_l = Node(\"B\")\n",
    "node_r = Node(\"C\")\n",
    "top.left = node_l\n",
    "top.right = node_r\n",
    "\n",
    "node_ll = Node(\"D\")\n",
    "node_lr = Node(\"E\")\n",
    "node_l.left = node_ll\n",
    "node_l.right = node_lr\n",
    "\n",
    "node_lll = Node(\"H\")\n",
    "node_ll.left = node_lll\n",
    "\n",
    "node_lrl = Node(\"I\")\n",
    "node_lr.left = node_lrl\n",
    "\n",
    "node_lrll = Node(\"J\")\n",
    "node_lrlr = Node(\"K\")\n",
    "node_lrl.left = node_lrll\n",
    "node_lrl.right = node_lrlr\n",
    "\n",
    "node_rl = Node(\"F\")\n",
    "node_rr = Node(\"G\")\n",
    "node_r.left = node_rl\n",
    "node_r.right = node_rr"
   ]
  },
  {
   "cell_type": "code",
   "execution_count": 7,
   "metadata": {},
   "outputs": [],
   "source": [
    "def print_bfs(top):\n",
    "    queue = [top]\n",
    "    while queue:\n",
    "        node = queue.pop(0)\n",
    "        print(node)\n",
    "        if node.left:\n",
    "            queue.append(node.left)\n",
    "        if node.right:\n",
    "            queue.append(node.right)"
   ]
  },
  {
   "cell_type": "code",
   "execution_count": null,
   "metadata": {},
   "outputs": [
    {
     "name": "stdout",
     "output_type": "stream",
     "text": [
      "A\n",
      "B\n",
      "C\n",
      "D\n",
      "E\n",
      "F\n",
      "G\n",
      "H\n",
      "I\n",
      "J\n",
      "K\n"
     ]
    }
   ],
   "source": [
    "print_bfs(top)"
   ]
  }
 ],
 "metadata": {
  "kernelspec": {
   "display_name": "venv",
   "language": "python",
   "name": "python3"
  },
  "language_info": {
   "codemirror_mode": {
    "name": "ipython",
    "version": 3
   },
   "file_extension": ".py",
   "mimetype": "text/x-python",
   "name": "python",
   "nbconvert_exporter": "python",
   "pygments_lexer": "ipython3",
   "version": "3.11.6"
  }
 },
 "nbformat": 4,
 "nbformat_minor": 2
}
