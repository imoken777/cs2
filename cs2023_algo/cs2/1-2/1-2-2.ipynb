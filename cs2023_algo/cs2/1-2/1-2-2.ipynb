{
 "cells": [
  {
   "cell_type": "markdown",
   "metadata": {},
   "source": [
    "## 課題 1-2-2\n",
    "\n",
    "情報エントロピーを求める\n"
   ]
  },
  {
   "cell_type": "code",
   "execution_count": 2,
   "metadata": {},
   "outputs": [
    {
     "name": "stdout",
     "output_type": "stream",
     "text": [
      "0.972\n",
      "1.585\n"
     ]
    }
   ],
   "source": [
    "import math\n",
    "\n",
    "o_hare = 6000 / 10000\n",
    "O_kumori = 3999 / 10000\n",
    "o_yuki = 1 / 10000\n",
    "h_hare = 1 / 3\n",
    "h_kumori = 1 / 3\n",
    "h_yuki = 1 / 3\n",
    "\n",
    "o_kitaiti = (\n",
    "    -o_hare * math.log2(o_hare)\n",
    "    - O_kumori * math.log2(O_kumori)\n",
    "    - o_yuki * math.log2(o_yuki)\n",
    ")\n",
    "h_kitaiti = (\n",
    "    -h_hare * math.log2(h_hare)\n",
    "    - h_kumori * math.log2(h_kumori)\n",
    "    - h_yuki * math.log2(h_yuki)\n",
    ")\n",
    "\n",
    "print(round(o_kitaiti, 3))\n",
    "print(round(h_kitaiti, 3))"
   ]
  }
 ],
 "metadata": {
  "kernelspec": {
   "display_name": "venv",
   "language": "python",
   "name": "python3"
  },
  "language_info": {
   "codemirror_mode": {
    "name": "ipython",
    "version": 3
   },
   "file_extension": ".py",
   "mimetype": "text/x-python",
   "name": "python",
   "nbconvert_exporter": "python",
   "pygments_lexer": "ipython3",
   "version": "3.11.5"
  },
  "orig_nbformat": 4
 },
 "nbformat": 4,
 "nbformat_minor": 2
}
