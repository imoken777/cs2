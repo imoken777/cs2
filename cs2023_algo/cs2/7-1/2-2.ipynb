{
 "cells": [
  {
   "cell_type": "markdown",
   "metadata": {},
   "source": [
    "以下のソートされた数字の列から、指定された値を、二分探索で見つけたい。見つけるまでに比較した数字の列（解答例：2, 4, 8）と、比較を何回行ったか答えよ。ただし、対象とする列の数字の数が偶数だった場合、列後半の先頭を列中心と見なすこと。\n"
   ]
  },
  {
   "cell_type": "code",
   "execution_count": 11,
   "metadata": {},
   "outputs": [
    {
     "name": "stdout",
     "output_type": "stream",
     "text": [
      "比較した数字の列: [43, 24, 38, 31]\n",
      "比較回数: 4\n"
     ]
    }
   ],
   "source": [
    "def binary_search(arr, target):\n",
    "    left, right = 0, len(arr) - 1\n",
    "    comparisons = []  # 比較した数字を記録するリスト\n",
    "\n",
    "    while left <= right:\n",
    "        # 偶数の長さの場合、中央を右側にずらす\n",
    "        mid = left + (right - left + 1) // 2\n",
    "        comparisons.append(arr[mid])\n",
    "\n",
    "        if arr[mid] == target:\n",
    "            return comparisons, len(comparisons)\n",
    "        elif arr[mid] < target:\n",
    "            left = mid + 1\n",
    "        else:\n",
    "            right = mid - 1\n",
    "\n",
    "    return None, len(comparisons)  # 見つからなかった場合\n",
    "\n",
    "\n",
    "# 数字の列と探索する値\n",
    "arr = [2, 5, 12, 24, 31, 38, 43, 48, 57, 69, 88, 93, 99]\n",
    "target = 31\n",
    "\n",
    "# 二分探索の実行\n",
    "compared_numbers, comparison_count = binary_search(arr, target)\n",
    "\n",
    "print(\"比較した数字の列:\", compared_numbers)\n",
    "print(\"比較回数:\", comparison_count)"
   ]
  }
 ],
 "metadata": {
  "kernelspec": {
   "display_name": "venv",
   "language": "python",
   "name": "python3"
  },
  "language_info": {
   "codemirror_mode": {
    "name": "ipython",
    "version": 3
   },
   "file_extension": ".py",
   "mimetype": "text/x-python",
   "name": "python",
   "nbconvert_exporter": "python",
   "pygments_lexer": "ipython3",
   "version": "3.11.6"
  }
 },
 "nbformat": 4,
 "nbformat_minor": 2
}
