{
 "cells": [
  {
   "cell_type": "markdown",
   "metadata": {},
   "source": [
    "各出目の確率がすべて等しい公正なサイコロを 1 回振った出目の持つ情報エントロピーを計算せよ。小数第三位を四捨五入すること。\n"
   ]
  },
  {
   "cell_type": "code",
   "execution_count": 26,
   "metadata": {},
   "outputs": [
    {
     "name": "stdout",
     "output_type": "stream",
     "text": [
      "2.584962500721156\n"
     ]
    }
   ],
   "source": [
    "import math\n",
    "\n",
    "p = 1 / 6\n",
    "h = (\n",
    "    -p * math.log2(p)\n",
    "    - p * math.log2(p)\n",
    "    - p * math.log2(p)\n",
    "    - p * math.log2(p)\n",
    "    - p * math.log2(p)\n",
    "    - p * math.log2(p)\n",
    ")\n",
    "print(h)"
   ]
  },
  {
   "cell_type": "markdown",
   "metadata": {},
   "source": [
    "各出目の確率がすべて等しい公正なサイコロを 1 回振った出目の持つ情報エントロピーを計算せよ。小数第三位を四捨五入すること。\n"
   ]
  },
  {
   "cell_type": "code",
   "execution_count": 27,
   "metadata": {},
   "outputs": [],
   "source": [
    "def entropy(p):\n",
    "    return -p * math.log2(p)"
   ]
  },
  {
   "cell_type": "code",
   "execution_count": 28,
   "metadata": {},
   "outputs": [
    {
     "name": "stdout",
     "output_type": "stream",
     "text": [
      "2.584962500721156\n"
     ]
    }
   ],
   "source": [
    "p = 1 / 6\n",
    "h = entropy(p) * 6\n",
    "print(h)"
   ]
  },
  {
   "cell_type": "markdown",
   "metadata": {},
   "source": [
    "出目 6 の確率 1/2 で、他の各目が等確率で出るいかさまサイコロを 1 回振った出目の持つ情報エントロピーを計算せよ。小数第三位を四捨五入すること。\n"
   ]
  },
  {
   "cell_type": "code",
   "execution_count": 29,
   "metadata": {},
   "outputs": [
    {
     "name": "stdout",
     "output_type": "stream",
     "text": [
      "2.1609640474436813\n"
     ]
    }
   ],
   "source": [
    "p6 = 1 / 2\n",
    "other = (1 - p6) / 5\n",
    "h = entropy(p6) + entropy(other) * 5\n",
    "print(h)"
   ]
  }
 ],
 "metadata": {
  "kernelspec": {
   "display_name": "venv",
   "language": "python",
   "name": "python3"
  },
  "language_info": {
   "codemirror_mode": {
    "name": "ipython",
    "version": 3
   },
   "file_extension": ".py",
   "mimetype": "text/x-python",
   "name": "python",
   "nbconvert_exporter": "python",
   "pygments_lexer": "ipython3",
   "version": "3.11.6"
  }
 },
 "nbformat": 4,
 "nbformat_minor": 2
}
