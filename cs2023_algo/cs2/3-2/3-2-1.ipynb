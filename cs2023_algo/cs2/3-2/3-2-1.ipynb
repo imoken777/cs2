{
 "cells": [
  {
   "cell_type": "markdown",
   "metadata": {},
   "source": [
    "## 課題3-2-1\n",
    "クイックソート"
   ]
  },
  {
   "cell_type": "code",
   "execution_count": 1,
   "metadata": {},
   "outputs": [],
   "source": [
    "def simple_qsort(lst):\n",
    "    if len(lst) <= 1:\n",
    "        return lst\n",
    "    pivot = lst[0]\n",
    "\n",
    "    lst1 = [x for x in lst if x < pivot]\n",
    "    lst2 = [x for x in lst if x == pivot]\n",
    "    lst3 = [x for x in lst if x > pivot]\n",
    "\n",
    "    return simple_qsort(lst1) + lst2 + simple_qsort(lst3)"
   ]
  },
  {
   "cell_type": "code",
   "execution_count": 2,
   "metadata": {},
   "outputs": [
    {
     "data": {
      "text/plain": [
       "[1, 2, 3, 4, 5, 6, 7, 8]"
      ]
     },
     "execution_count": 2,
     "metadata": {},
     "output_type": "execute_result"
    }
   ],
   "source": [
    "simple_qsort([8,1,2,7,5,6,3,4])\n",
    "\n",
    "# [1,2,7,5,6,3,4,],[8]\n",
    "# [1],[2,7,5,6,3,4],[8]\n",
    "# [1],[2],[7,5,6,3,4],[8]\n",
    "# [1],[2],[5,6,3,4],[7],[8]\n",
    "# [1],[2],[3,4],[5],[6],[7],[8]\n",
    "# [1],[2],[3],[4],[5],[6],[7],[8]"
   ]
  },
  {
   "cell_type": "code",
   "execution_count": 3,
   "metadata": {},
   "outputs": [
    {
     "data": {
      "text/plain": [
       "[1, 2, 3, 4, 5, 6, 7, 8, 9, 10]"
      ]
     },
     "execution_count": 3,
     "metadata": {},
     "output_type": "execute_result"
    }
   ],
   "source": [
    "simple_qsort([10,2,5,8,1,4,3,7,9,6])\n",
    "\n",
    "# [2,5,8,1,4,3,7,9,6],[10]\n",
    "# [1],[2],[5,8,4,3,7,9,6],[10]\n",
    "# [1],[2],[4,3],[5],[8,7,9,6],[10]\n",
    "# [1],[2],[3],[4],[5],[8,7,9,6][10]\n",
    "# [1],[2],[3],[4],[5],[7,6],[8],[9],[10]\n",
    "# [1],[2],[3],[4],[5],[6],[7],[8],[9],[10]"
   ]
  }
 ],
 "metadata": {
  "kernelspec": {
   "display_name": "venv",
   "language": "python",
   "name": "python3"
  },
  "language_info": {
   "codemirror_mode": {
    "name": "ipython",
    "version": 3
   },
   "file_extension": ".py",
   "mimetype": "text/x-python",
   "name": "python",
   "nbconvert_exporter": "python",
   "pygments_lexer": "ipython3",
   "version": "3.11.6"
  }
 },
 "nbformat": 4,
 "nbformat_minor": 2
}
