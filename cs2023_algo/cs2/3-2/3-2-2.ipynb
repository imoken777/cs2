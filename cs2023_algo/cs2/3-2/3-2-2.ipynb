{
 "cells": [
  {
   "cell_type": "markdown",
   "metadata": {},
   "source": [
    "## 課題3-2-2\n",
    "マージソート"
   ]
  },
  {
   "cell_type": "code",
   "execution_count": 1,
   "metadata": {},
   "outputs": [],
   "source": [
    "def merge(lst1, lst2):\n",
    "    result = []\n",
    "    i = 0\n",
    "    j = 0\n",
    "    while (i < len(lst1)) and (j < len(lst2)):\n",
    "        if lst1[i] <= lst2[j]:\n",
    "            result.append(lst1[i])\n",
    "            i += 1\n",
    "        else:\n",
    "            result.append(lst2[j])\n",
    "            j += 1\n",
    "    while i < len(lst1):\n",
    "        result.append(lst1[i])\n",
    "        i += 1\n",
    "    while j < len(lst2):\n",
    "        result.append(lst2[j])\n",
    "        j += 1\n",
    "\n",
    "    return result"
   ]
  },
  {
   "cell_type": "code",
   "execution_count": 2,
   "metadata": {},
   "outputs": [],
   "source": [
    "def msort(lst):\n",
    "    if len(lst) <= 1:\n",
    "        return lst\n",
    "    lst1 = lst[0: len(lst) // 2]\n",
    "    lst2 = lst[len(lst) // 2:]\n",
    "\n",
    "    sorted_lst1 = msort(lst1)\n",
    "    sorted_lst2 = msort(lst2)\n",
    "\n",
    "    return merge(sorted_lst1, sorted_lst2)"
   ]
  },
  {
   "cell_type": "code",
   "execution_count": 3,
   "metadata": {},
   "outputs": [
    {
     "data": {
      "text/plain": [
       "[1, 2, 3, 4, 5, 6, 7, 8]"
      ]
     },
     "execution_count": 3,
     "metadata": {},
     "output_type": "execute_result"
    }
   ],
   "source": [
    "msort([8,1,2,7,5,6,3,4])\n",
    "\n",
    "# [8,1,2,7], [5,6,3,4]\n",
    "# [8,1], [2,7], [5,6,3,4]\n",
    "# [8],[1],[2,7],[5,6,3,4]\n",
    "# [1,8],[2,7],[5,6,3,4]koko\n",
    "# [1,8],[2],[7],[5,6,3,4]\n",
    "# [1,8],[2,7],[5,6,3,4]koko\n",
    "# [1,2,7,8],[5,6,3,4]koko\n",
    "# [1,2,7,8],[5,6],[3,4]\n",
    "# [1,2,7,8],[5],[6],[3,4]\n",
    "# [1,2,7,8],[5,6],[3,4]koko\n",
    "# [1,2,7,8],[5,6],[3],[4]\n",
    "# [1,2,7,8],[5,6],[3,4]koko\n",
    "# [1,2,7,8],[3,4,5,6]koko\n",
    "# [1,2,3,4,5,6,7,8]koko\n",
    "\n",
    "\n",
    "# 以下コピペ可\n",
    "# [1,8],[2,7],[5,6,3,4]\n",
    "# [1,8],[2,7],[5,6,3,4]\n",
    "# [1,2,7,8],[5,6,3,4]\n",
    "# [1,2,7,8],[5,6],[3,4]\n",
    "# # [1,2,7,8],[5,6],[3,4]\n",
    "# [1,2,7,8],[3,4,5,6]\n",
    "# [1,2,3,4,5,6,7,8]\n",
    "\n",
    "\n"
   ]
  },
  {
   "cell_type": "code",
   "execution_count": 4,
   "metadata": {},
   "outputs": [
    {
     "data": {
      "text/plain": [
       "[1, 2, 3, 4, 5, 6, 7, 8, 9, 10]"
      ]
     },
     "execution_count": 4,
     "metadata": {},
     "output_type": "execute_result"
    }
   ],
   "source": [
    "msort([10,2,5,8,1,4,3,7,9,6])\n",
    "\n",
    "# # [10,2,5,8,1,4,3,7,9,6]\n",
    "# [10,2,5,8,1],[4,3,7,9,6]\n",
    "# [10,2,5],[8,1],[4,3,7,9,6]\n",
    "# [10,2],[5],[8,1],[4,3,7,9,6]\n",
    "# [10],[2],[5],[8,1],[4,3,7,9,6]\n",
    "# [2,10],[5],[8,1],[4,3,7,9,6]koko\n",
    "# [2,5,10],[8,1],[4,3,7,9,6]koko\n",
    "# [2,5,10],[8],[1],[4,3,7,9,6]\n",
    "# [2,5,10],[1,8],[4,3,7,9,6]koko\n",
    "# [1,2,5,8,10],[4,3,7,9,6]koko\n",
    "# [1,2,5,8,10],[4,3,7],[9,6]\n",
    "# [1,2,5,8,10],[4,3],[7],[9,6]\n",
    "# [1,2,5,8,10],[4],[3],[7],[9,6]\n",
    "# [1,2,5,8,10],[3,4],[7],[9,6]koko\n",
    "# [1,2,5,8,10],[3,4,7],[9,6]koko\n",
    "# [1,2,5,8,10],[3,4,7],[9],[6]\n",
    "# [1,2,5,8,10],[3,4,7],[6,9]koko\n",
    "# [1,2,5,8,10],[3,4,6,7,9]koko\n",
    "# [1,2,3,4,5,6,7,8,9,10]koko\n",
    "\n",
    "# # 以下コピペ可\n",
    "# [2,10],[5],[8,1],[4,3,7,9,6]\n",
    "# [2,5,10],[8,1],[4,3,7,9,6]\n",
    "# [2,5,10],[1,8],[4,3,7,9,6]\n",
    "# [1,2,5,8,10],[4,3,7,9,6]\n",
    "# [1,2,5,8,10],[3,4],[7],[9,6]\n",
    "# [1,2,5,8,10],[3,4,7],[9,6]\n",
    "# [1,2,5,8,10],[3,4,7],[6,9]\n",
    "# [1,2,5,8,10],[3,4,6,7,9]\n",
    "# [1,2,3,4,5,6,7,8,9,10]"
   ]
  }
 ],
 "metadata": {
  "kernelspec": {
   "display_name": "venv",
   "language": "python",
   "name": "python3"
  },
  "language_info": {
   "codemirror_mode": {
    "name": "ipython",
    "version": 3
   },
   "file_extension": ".py",
   "mimetype": "text/x-python",
   "name": "python",
   "nbconvert_exporter": "python",
   "pygments_lexer": "ipython3",
   "version": "3.11.6"
  }
 },
 "nbformat": 4,
 "nbformat_minor": 2
}
