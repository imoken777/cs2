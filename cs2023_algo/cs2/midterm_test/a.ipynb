{
 "cells": [
  {
   "cell_type": "code",
   "execution_count": 17,
   "metadata": {},
   "outputs": [
    {
     "name": "stdout",
     "output_type": "stream",
     "text": [
      "271 µs ± 9.09 µs per loop (mean ± std. dev. of 7 runs, 1,000 loops each)\n",
      "531 µs ± 4.91 µs per loop (mean ± std. dev. of 7 runs, 1,000 loops each)\n",
      "612 µs ± 101 µs per loop (mean ± std. dev. of 7 runs, 1,000 loops each)\n",
      "800 µs ± 43.5 µs per loop (mean ± std. dev. of 7 runs, 1,000 loops each)\n",
      "923 µs ± 26.6 µs per loop (mean ± std. dev. of 7 runs, 1,000 loops each)\n"
     ]
    }
   ],
   "source": [
    "class Node:\n",
    "    def __init__(self, value):\n",
    "        self.value = value\n",
    "        self.next = None\n",
    "\n",
    "    def __str__(self):\n",
    "        return str(self.value)\n",
    "\n",
    "\n",
    "def print_list(top):\n",
    "    print(\"<\", end=\"\")\n",
    "    node = top\n",
    "    while node is not None:\n",
    "        print(node, end=\", \")\n",
    "        node = node.next\n",
    "    print(\">\")\n",
    "\n",
    "\n",
    "def insert(prev, x):\n",
    "    new_node = Node(x)\n",
    "    new_node.next = prev.next\n",
    "    prev.next = new_node\n",
    "    return new_node\n",
    "\n",
    "\n",
    "def create_list(n):\n",
    "    top = Node(0)\n",
    "    for i in range(1, n):\n",
    "        insert(top, n - i)\n",
    "    return top\n",
    "\n",
    "\n",
    "def get_bottom(top):\n",
    "    node = top\n",
    "    while node.next is not None:\n",
    "        node = node.next\n",
    "    return node\n",
    "\n",
    "\n",
    "for i in range(10000, 50001, 10000):\n",
    "    lst = create_list(i)\n",
    "    %timeit get_bottom(lst)"
   ]
  }
 ],
 "metadata": {
  "kernelspec": {
   "display_name": "venv",
   "language": "python",
   "name": "python3"
  },
  "language_info": {
   "codemirror_mode": {
    "name": "ipython",
    "version": 3
   },
   "file_extension": ".py",
   "mimetype": "text/x-python",
   "name": "python",
   "nbconvert_exporter": "python",
   "pygments_lexer": "ipython3",
   "version": "3.11.6"
  }
 },
 "nbformat": 4,
 "nbformat_minor": 2
}
