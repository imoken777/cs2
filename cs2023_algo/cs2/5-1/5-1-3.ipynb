{
 "cells": [
  {
   "cell_type": "markdown",
   "metadata": {},
   "source": [
    "## 課題 5-1-3\n",
    "\n",
    "ノードの深さをを返す関数\n"
   ]
  },
  {
   "cell_type": "code",
   "execution_count": 9,
   "metadata": {},
   "outputs": [],
   "source": [
    "class Node:\n",
    "    def __init__(self, value):\n",
    "        self.value = value\n",
    "        self.left = None\n",
    "        self.right = None\n",
    "\n",
    "    def __str__(self):\n",
    "        return str(self.value)"
   ]
  },
  {
   "cell_type": "code",
   "execution_count": 10,
   "metadata": {},
   "outputs": [],
   "source": [
    "top = Node(1)\n",
    "node_l = Node(2)\n",
    "node_r = Node(3)\n",
    "top.left = node_l\n",
    "top.right = node_r\n",
    "\n",
    "node_l_l = Node(4)\n",
    "node_l_r = Node(5)\n",
    "node_l.left = node_l_l\n",
    "node_l.right = node_l_r\n",
    "\n",
    "node_r_l = Node(6)\n",
    "node_r.left = node_r_l\n",
    "\n",
    "node_l_r_l = Node(7)\n",
    "node_l_r.left = node_l_r_l"
   ]
  },
  {
   "cell_type": "code",
   "execution_count": 11,
   "metadata": {},
   "outputs": [],
   "source": [
    "def depth(top, x):\n",
    "    if top.value == x:\n",
    "        return 0\n",
    "    if top.left != None:\n",
    "        d = depth(top.left, x)\n",
    "        if d >= 0:\n",
    "            return d + 1\n",
    "    if top.right != None:\n",
    "        d = depth(top.right, x)\n",
    "        if d >= 0:\n",
    "            return d + 1\n",
    "    return -1"
   ]
  },
  {
   "cell_type": "code",
   "execution_count": 12,
   "metadata": {},
   "outputs": [
    {
     "data": {
      "text/plain": [
       "-1"
      ]
     },
     "execution_count": 12,
     "metadata": {},
     "output_type": "execute_result"
    }
   ],
   "source": [
    "depth(top, 8)"
   ]
  }
 ],
 "metadata": {
  "kernelspec": {
   "display_name": "venv",
   "language": "python",
   "name": "python3"
  },
  "language_info": {
   "codemirror_mode": {
    "name": "ipython",
    "version": 3
   },
   "file_extension": ".py",
   "mimetype": "text/x-python",
   "name": "python",
   "nbconvert_exporter": "python",
   "pygments_lexer": "ipython3",
   "version": "3.11.6"
  }
 },
 "nbformat": 4,
 "nbformat_minor": 2
}
