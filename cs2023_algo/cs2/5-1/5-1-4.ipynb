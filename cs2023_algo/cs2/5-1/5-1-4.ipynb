{
 "cells": [
  {
   "cell_type": "markdown",
   "metadata": {},
   "source": [
    "## 課題 5-1-4\n",
    "\n",
    "二分木の探索\n"
   ]
  },
  {
   "cell_type": "code",
   "execution_count": 11,
   "metadata": {},
   "outputs": [],
   "source": [
    "class Node:\n",
    "    def __init__(self, value):\n",
    "        self.value = value\n",
    "        self.left = None\n",
    "        self.right = None\n",
    "\n",
    "    def __str__(self):\n",
    "        return str(self.value)"
   ]
  },
  {
   "cell_type": "code",
   "execution_count": 12,
   "metadata": {},
   "outputs": [],
   "source": [
    "top = Node(\"A\")\n",
    "node_l = Node(\"B\")\n",
    "node_r = Node(\"C\")\n",
    "top.left = node_l\n",
    "top.right = node_r\n",
    "\n",
    "node_ll = Node(\"D\")\n",
    "node_lr = Node(\"E\")\n",
    "node_l.left = node_ll\n",
    "node_l.right = node_lr\n",
    "\n",
    "node_lll = Node(\"H\")\n",
    "node_ll.left = node_lll\n",
    "\n",
    "node_lrl = Node(\"I\")\n",
    "node_lr.left = node_lrl\n",
    "\n",
    "node_lrll = Node(\"J\")\n",
    "node_lrlr = Node(\"K\")\n",
    "node_lrl.left = node_lrll\n",
    "node_lrl.right = node_lrlr\n",
    "\n",
    "node_rl = Node(\"F\")\n",
    "node_rr = Node(\"G\")\n",
    "node_r.left = node_rl\n",
    "node_r.right = node_rr"
   ]
  },
  {
   "cell_type": "code",
   "execution_count": 13,
   "metadata": {},
   "outputs": [],
   "source": [
    "def print_preorder(node):\n",
    "    print(node.value, end=\" \")\n",
    "\n",
    "    if node.left != None:\n",
    "        print_preorder(node.left)\n",
    "\n",
    "    if node.right != None:\n",
    "        print_preorder(node.right)\n",
    "\n",
    "\n",
    "def print_inorder(node):\n",
    "    if node.left != None:\n",
    "        print_inorder(node.left)\n",
    "\n",
    "    print(node.value, end=\" \")\n",
    "\n",
    "    if node.right != None:\n",
    "        print_inorder(node.right)\n",
    "\n",
    "\n",
    "def print_postorder(node):\n",
    "    if node.left != None:\n",
    "        print_postorder(node.left)\n",
    "\n",
    "    if node.right != None:\n",
    "        print_postorder(node.right)\n",
    "\n",
    "    print(node.value, end=\" \")"
   ]
  },
  {
   "cell_type": "code",
   "execution_count": 14,
   "metadata": {},
   "outputs": [
    {
     "name": "stdout",
     "output_type": "stream",
     "text": [
      "A B D H E I J K C F G "
     ]
    }
   ],
   "source": [
    "print_preorder(top)"
   ]
  },
  {
   "cell_type": "code",
   "execution_count": 15,
   "metadata": {},
   "outputs": [
    {
     "name": "stdout",
     "output_type": "stream",
     "text": [
      "H D B J I K E A F C G "
     ]
    }
   ],
   "source": [
    "print_inorder(top)"
   ]
  },
  {
   "cell_type": "code",
   "execution_count": 16,
   "metadata": {},
   "outputs": [
    {
     "name": "stdout",
     "output_type": "stream",
     "text": [
      "H D J K I E B F G C A "
     ]
    }
   ],
   "source": [
    "print_postorder(top)"
   ]
  }
 ],
 "metadata": {
  "kernelspec": {
   "display_name": "venv",
   "language": "python",
   "name": "python3"
  },
  "language_info": {
   "codemirror_mode": {
    "name": "ipython",
    "version": 3
   },
   "file_extension": ".py",
   "mimetype": "text/x-python",
   "name": "python",
   "nbconvert_exporter": "python",
   "pygments_lexer": "ipython3",
   "version": "3.11.6"
  }
 },
 "nbformat": 4,
 "nbformat_minor": 2
}
