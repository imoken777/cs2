{
 "cells": [
  {
   "cell_type": "code",
   "execution_count": 3,
   "metadata": {},
   "outputs": [
    {
     "name": "stdout",
     "output_type": "stream",
     "text": [
      "Before sort: [5, 2, 3, 1, 4]\n",
      "After sort: [1, 2, 3, 4, 5]\n"
     ]
    }
   ],
   "source": [
    "def insertion_sort(xs):\n",
    "    for i in range(1, len(xs)):\n",
    "        tmp = xs[i]\n",
    "        j = i - 1\n",
    "        while j >= 0 and xs[j] > tmp:\n",
    "            xs[j + 1] = xs[j]\n",
    "            j -= 1\n",
    "        xs[j + 1] = tmp\n",
    "\n",
    "\n",
    "b = [5, 2, 3, 1, 4]\n",
    "print(\"Before sort:\", b)\n",
    "insertion_sort(b)\n",
    "print(\"After sort:\", b)"
   ]
  }
 ],
 "metadata": {
  "kernelspec": {
   "display_name": "venv",
   "language": "python",
   "name": "python3"
  },
  "language_info": {
   "codemirror_mode": {
    "name": "ipython",
    "version": 3
   },
   "file_extension": ".py",
   "mimetype": "text/x-python",
   "name": "python",
   "nbconvert_exporter": "python",
   "pygments_lexer": "ipython3",
   "version": "3.11.6"
  }
 },
 "nbformat": 4,
 "nbformat_minor": 2
}
