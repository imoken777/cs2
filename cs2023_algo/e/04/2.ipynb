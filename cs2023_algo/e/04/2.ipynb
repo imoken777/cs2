{
 "cells": [
  {
   "cell_type": "markdown",
   "metadata": {},
   "source": [
    "再帰回数数える"
   ]
  },
  {
   "cell_type": "code",
   "execution_count": 2,
   "metadata": {},
   "outputs": [
    {
     "name": "stdout",
     "output_type": "stream",
     "text": [
      "[1, 2, 3, 4, 5, 6, 7, 8, 9, 10]\n",
      "11\n"
     ]
    }
   ],
   "source": [
    "count = 0\n",
    "\n",
    "def simple_qsort(arr):\n",
    "    global count\n",
    "    count += 1\n",
    "    if len(arr) <= 1:\n",
    "        return arr\n",
    "    pivot = arr[0]\n",
    "    \n",
    "    arr1 = [x for x in arr if x < pivot]\n",
    "    arr2 = [x for x in arr if x == pivot]\n",
    "    arr3 = [x for x in arr if x > pivot]\n",
    "    \n",
    "    return simple_qsort(arr1) + arr2 + simple_qsort(arr3)\n",
    "\n",
    "arr = [1, 3, 2, 5, 4, 7, 6, 9, 8, 10]\n",
    "sorted_arr = simple_qsort(arr)\n",
    "print(sorted_arr)\n",
    "print(count)\n"
   ]
  }
 ],
 "metadata": {
  "kernelspec": {
   "display_name": "venv",
   "language": "python",
   "name": "python3"
  },
  "language_info": {
   "codemirror_mode": {
    "name": "ipython",
    "version": 3
   },
   "file_extension": ".py",
   "mimetype": "text/x-python",
   "name": "python",
   "nbconvert_exporter": "python",
   "pygments_lexer": "ipython3",
   "version": "3.11.6"
  }
 },
 "nbformat": 4,
 "nbformat_minor": 2
}
