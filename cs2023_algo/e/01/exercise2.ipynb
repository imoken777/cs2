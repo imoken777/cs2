{
 "cells": [
  {
   "cell_type": "markdown",
   "id": "c4bdae5a-899b-4fbf-9219-dde6996f1507",
   "metadata": {},
   "source": [
    "# 課題２\n",
    "## じゃんけんゲームを作ろう"
   ]
  },
  {
   "cell_type": "code",
   "execution_count": 1,
   "id": "e5862068-0a36-4dd1-94ab-27b358aaa06a",
   "metadata": {},
   "outputs": [],
   "source": [
    "import random"
   ]
  },
  {
   "cell_type": "code",
   "execution_count": null,
   "id": "c92b0685-9f58-47e9-9861-44ea3e6242c2",
   "metadata": {},
   "outputs": [],
   "source": [
    "def janken():\n",
    "    player = input(\"あなたは？（0:グー、1:チョキ、2:パー）\")\n",
    "    computer = random"
   ]
  }
 ],
 "metadata": {
  "kernelspec": {
   "display_name": "Python 3 (ipykernel)",
   "language": "python",
   "name": "python3"
  },
  "language_info": {
   "codemirror_mode": {
    "name": "ipython",
    "version": 3
   },
   "file_extension": ".py",
   "mimetype": "text/x-python",
   "name": "python",
   "nbconvert_exporter": "python",
   "pygments_lexer": "ipython3",
   "version": "3.11.5"
  }
 },
 "nbformat": 4,
 "nbformat_minor": 5
}
