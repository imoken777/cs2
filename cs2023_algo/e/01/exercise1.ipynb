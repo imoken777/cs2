{
 "cells": [
  {
   "cell_type": "markdown",
   "id": "50a535d8-6d34-4d52-8a37-b7ef71b7f561",
   "metadata": {},
   "source": [
    "# 課題 1\n",
    "\n",
    "- matplotlib を import します\n",
    "- matplotlib のバージョンを出力します\n"
   ]
  },
  {
   "cell_type": "code",
   "execution_count": 1,
   "id": "4f4dbf7d-1b4f-478f-af8f-b8466e60a45e",
   "metadata": {},
   "outputs": [],
   "source": [
    "import matplotlib"
   ]
  },
  {
   "cell_type": "code",
   "execution_count": 2,
   "id": "a8a0a671-8e6e-491b-8c1e-8acd5cafeb61",
   "metadata": {},
   "outputs": [
    {
     "name": "stdout",
     "output_type": "stream",
     "text": [
      "3.8.0\n"
     ]
    }
   ],
   "source": [
    "print(matplotlib.__version__)"
   ]
  }
 ],
 "metadata": {
  "kernelspec": {
   "display_name": "Python 3 (ipykernel)",
   "language": "python",
   "name": "python3"
  },
  "language_info": {
   "codemirror_mode": {
    "name": "ipython",
    "version": 3
   },
   "file_extension": ".py",
   "mimetype": "text/x-python",
   "name": "python",
   "nbconvert_exporter": "python",
   "pygments_lexer": "ipython3",
   "version": "3.11.5"
  }
 },
 "nbformat": 4,
 "nbformat_minor": 5
}
