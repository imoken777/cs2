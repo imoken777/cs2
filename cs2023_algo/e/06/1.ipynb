{
 "cells": [
  {
   "cell_type": "code",
   "execution_count": 1,
   "metadata": {},
   "outputs": [],
   "source": [
    "class Node:\n",
    "    def __init__(self, value, left=None, right=None):\n",
    "        self.value = value\n",
    "        self.left = left\n",
    "        self.right = right"
   ]
  },
  {
   "cell_type": "code",
   "execution_count": 2,
   "metadata": {},
   "outputs": [],
   "source": [
    "def make_tree(n):\n",
    "    if n <= 0:\n",
    "        return Node(n)\n",
    "    node = Node(n)\n",
    "    node.left = make_tree(n - 1)\n",
    "    node.right = make_tree(n - 1)\n",
    "    return node"
   ]
  },
  {
   "cell_type": "code",
   "execution_count": 3,
   "metadata": {},
   "outputs": [],
   "source": [
    "def height(node):\n",
    "    if node.left != None:\n",
    "        left_height = height(node.left) + 1\n",
    "    else:\n",
    "        left_height = 0\n",
    "\n",
    "    if node.right != None:\n",
    "        right_height = height(node.right) + 1\n",
    "    else:\n",
    "        right_height = 0\n",
    "\n",
    "    return max(left_height, right_height)"
   ]
  },
  {
   "cell_type": "code",
   "execution_count": 4,
   "metadata": {},
   "outputs": [],
   "source": [
    "def count(node):\n",
    "    if node.left is not None:\n",
    "        left_count = count(node.left)\n",
    "    else:\n",
    "        left_count = 0\n",
    "    if node.right is not None:\n",
    "        right_count = count(node.right)\n",
    "    else:\n",
    "        right_count = 0\n",
    "    return left_count + right_count + 1"
   ]
  },
  {
   "cell_type": "code",
   "execution_count": 5,
   "metadata": {},
   "outputs": [],
   "source": [
    "tree = make_tree(2)"
   ]
  },
  {
   "cell_type": "code",
   "execution_count": 6,
   "metadata": {},
   "outputs": [
    {
     "name": "stdout",
     "output_type": "stream",
     "text": [
      "7\n"
     ]
    }
   ],
   "source": [
    "print(count(tree))"
   ]
  },
  {
   "cell_type": "code",
   "execution_count": 7,
   "metadata": {},
   "outputs": [
    {
     "name": "stdout",
     "output_type": "stream",
     "text": [
      "2\n"
     ]
    }
   ],
   "source": [
    "print(height(tree))"
   ]
  }
 ],
 "metadata": {
  "kernelspec": {
   "display_name": "venv",
   "language": "python",
   "name": "python3"
  },
  "language_info": {
   "codemirror_mode": {
    "name": "ipython",
    "version": 3
   },
   "file_extension": ".py",
   "mimetype": "text/x-python",
   "name": "python",
   "nbconvert_exporter": "python",
   "pygments_lexer": "ipython3",
   "version": "3.11.6"
  }
 },
 "nbformat": 4,
 "nbformat_minor": 2
}
