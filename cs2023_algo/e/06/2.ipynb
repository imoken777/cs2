{
 "cells": [
  {
   "cell_type": "code",
   "execution_count": 1,
   "metadata": {},
   "outputs": [],
   "source": [
    "class Node:\n",
    "    def __init__(self, value, left=None, right=None):\n",
    "        self.value = value\n",
    "        self.left = left\n",
    "        self.right = right"
   ]
  },
  {
   "cell_type": "code",
   "execution_count": 2,
   "metadata": {},
   "outputs": [],
   "source": [
    "def compute(node, stack):\n",
    "    if node.left != None:\n",
    "        compute(node.left, stack)\n",
    "    if node.right != None:\n",
    "        compute(node.right, stack)\n",
    "    if node.value == \"+\":\n",
    "        val1 = stack.pop()\n",
    "        val2 = stack.pop()\n",
    "        stack.append(val2 + val1)\n",
    "    elif node.value == \"-\":\n",
    "        val1 = stack.pop()\n",
    "        val2 = stack.pop()\n",
    "        stack.append(val2 - val1)\n",
    "    elif node.value == \"*\":\n",
    "        val1 = stack.pop()\n",
    "        val2 = stack.pop()\n",
    "        stack.append(val2 * val1)\n",
    "    elif node.value == \"/\":\n",
    "        val1 = stack.pop()\n",
    "        val2 = stack.pop()\n",
    "        stack.append(val2 / val1)\n",
    "    else:\n",
    "        stack.append(node.value)"
   ]
  },
  {
   "cell_type": "code",
   "execution_count": 3,
   "metadata": {},
   "outputs": [
    {
     "name": "stdout",
     "output_type": "stream",
     "text": [
      "42\n"
     ]
    }
   ],
   "source": [
    "tree = Node(\"*\", Node(\"+\", Node(\"-\", Node(9), Node(3)), Node(1)), Node(6))\n",
    "from collections import deque\n",
    "\n",
    "stack = deque()\n",
    "compute(tree, stack)\n",
    "print(stack[0])"
   ]
  }
 ],
 "metadata": {
  "kernelspec": {
   "display_name": "venv",
   "language": "python",
   "name": "python3"
  },
  "language_info": {
   "codemirror_mode": {
    "name": "ipython",
    "version": 3
   },
   "file_extension": ".py",
   "mimetype": "text/x-python",
   "name": "python",
   "nbconvert_exporter": "python",
   "pygments_lexer": "ipython3",
   "version": "3.11.6"
  }
 },
 "nbformat": 4,
 "nbformat_minor": 2
}
