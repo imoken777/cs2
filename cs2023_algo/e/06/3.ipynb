{
 "cells": [
  {
   "cell_type": "code",
   "execution_count": 31,
   "metadata": {},
   "outputs": [],
   "source": [
    "class Node:\n",
    "    def __init__(self, value, left=None, middle=None, right=None):\n",
    "        self.value = value\n",
    "        self.left = left\n",
    "        self.middle = middle\n",
    "        self.right = right"
   ]
  },
  {
   "cell_type": "code",
   "execution_count": 32,
   "metadata": {},
   "outputs": [],
   "source": [
    "# グー=g チョキ＝c パー=p\n",
    "# 勝ち=6 負け=0 あいこ=1\n",
    "tree = Node(\n",
    "    0,\n",
    "    Node(\"g\", Node(\"p\", Node(6)), Node(\"g\", Node(1)), Node(\"c\", Node(0))),\n",
    "    Node(\"c\", Node(\"g\", Node(6)), Node(\"c\", Node(1)), Node(\"p\", Node(0))),\n",
    "    Node(\"p\", Node(\"c\", Node(6)), Node(\"p\", Node(1)), Node(\"g\", Node(0))),\n",
    ")"
   ]
  },
  {
   "cell_type": "code",
   "execution_count": 33,
   "metadata": {},
   "outputs": [
    {
     "name": "stdout",
     "output_type": "stream",
     "text": [
      "c\n"
     ]
    }
   ],
   "source": [
    "def min_max(hand, tree):\n",
    "    if tree.left.value == hand:\n",
    "        return tree.left.left.value\n",
    "    elif tree.middle.value == hand:\n",
    "        return tree.middle.left.value\n",
    "    elif tree.right.value == hand:\n",
    "        return tree.right.left.value\n",
    "    else:\n",
    "        print(\"error\")\n",
    "\n",
    "\n",
    "print(min_max(\"p\", tree))"
   ]
  }
 ],
 "metadata": {
  "kernelspec": {
   "display_name": "venv",
   "language": "python",
   "name": "python3"
  },
  "language_info": {
   "codemirror_mode": {
    "name": "ipython",
    "version": 3
   },
   "file_extension": ".py",
   "mimetype": "text/x-python",
   "name": "python",
   "nbconvert_exporter": "python",
   "pygments_lexer": "ipython3",
   "version": "3.11.6"
  }
 },
 "nbformat": 4,
 "nbformat_minor": 2
}
