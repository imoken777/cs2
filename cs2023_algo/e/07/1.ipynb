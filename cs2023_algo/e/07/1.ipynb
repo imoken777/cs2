{
 "cells": [
  {
   "cell_type": "code",
   "execution_count": 53,
   "metadata": {},
   "outputs": [],
   "source": [
    "import matplotlib.pyplot as plt\n",
    "import networkx as nx\n",
    "from collections import deque"
   ]
  },
  {
   "cell_type": "code",
   "execution_count": 54,
   "metadata": {},
   "outputs": [],
   "source": [
    "G = nx.DiGraph()\n",
    "\n",
    "G.add_node(\"a\")\n",
    "G.add_node(\"b\")\n",
    "G.add_node(\"c\")\n",
    "G.add_node(\"d\")\n",
    "G.add_node(\"e\")\n",
    "G.add_node(\"f\")\n",
    "\n",
    "G.add_edge(\"a\", \"b\", weight=10)\n",
    "G.add_edge(\"a\", \"c\", weight=2)\n",
    "G.add_edge(\"a\", \"d\", weight=3)\n",
    "G.add_edge(\"b\", \"a\", weight=1)\n",
    "G.add_edge(\"c\", \"f\", weight=2)\n",
    "G.add_edge(\"d\", \"e\", weight=5)\n",
    "G.add_edge(\"e\", \"d\", weight=2)\n",
    "G.add_edge(\"e\", \"b\", weight=3)\n",
    "G.add_edge(\"f\", \"e\", weight=1)"
   ]
  },
  {
   "cell_type": "code",
   "execution_count": 55,
   "metadata": {},
   "outputs": [],
   "source": [
    "def weight(G, u, v):\n",
    "    return G.edges[u, v][\"weight\"]\n",
    "\n",
    "\n",
    "def dijkstra(G, s, g):\n",
    "    d = {}\n",
    "    prev = {}\n",
    "    Q = []\n",
    "\n",
    "    for v in G.nodes:\n",
    "        if s == v:\n",
    "            d[v] = 0\n",
    "        else:\n",
    "            d[v] = float(\"inf\")\n",
    "        Q.append(v)\n",
    "\n",
    "    while len(Q) > 0:\n",
    "        u = min(Q, key=lambda v: d[v])\n",
    "        Q.remove(u)\n",
    "\n",
    "        for v in G.adj[u]:\n",
    "            if d[v] > d[u] + weight(G, u, v):\n",
    "                d[v] = d[u] + weight(G, u, v)\n",
    "                prev[v] = u\n",
    "\n",
    "    shortest_path = deque([g])\n",
    "    while g != s:\n",
    "        g = prev[g]\n",
    "        shortest_path.appendleft(g)\n",
    "    return shortest_path"
   ]
  },
  {
   "cell_type": "code",
   "execution_count": 56,
   "metadata": {},
   "outputs": [
    {
     "name": "stdout",
     "output_type": "stream",
     "text": [
      "deque(['a', 'c', 'f', 'e', 'b'])\n",
      "['a', 'c', 'f', 'e', 'b']\n",
      "deque(['a', 'd'])\n",
      "['a', 'd']\n"
     ]
    }
   ],
   "source": [
    "print(dijkstra(G, \"a\", \"b\"))\n",
    "print(list(nx.shortest_path(G, \"a\", \"b\", weight=\"weight\")))\n",
    "print(dijkstra(G, \"a\", \"d\"))\n",
    "print(list(nx.shortest_path(G, \"a\", \"d\", weight=\"weight\")))"
   ]
  }
 ],
 "metadata": {
  "kernelspec": {
   "display_name": "venv",
   "language": "python",
   "name": "python3"
  },
  "language_info": {
   "codemirror_mode": {
    "name": "ipython",
    "version": 3
   },
   "file_extension": ".py",
   "mimetype": "text/x-python",
   "name": "python",
   "nbconvert_exporter": "python",
   "pygments_lexer": "ipython3",
   "version": "3.11.6"
  }
 },
 "nbformat": 4,
 "nbformat_minor": 2
}
